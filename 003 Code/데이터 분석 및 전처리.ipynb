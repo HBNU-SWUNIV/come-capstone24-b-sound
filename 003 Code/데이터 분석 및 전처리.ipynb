{
 "cells": [
  {
   "cell_type": "code",
   "execution_count": 1,
   "id": "04d0396b",
   "metadata": {},
   "outputs": [],
   "source": [
    "import pandas as pd\n",
    "import numpy as np\n",
    "import re"
   ]
  },
  {
   "cell_type": "code",
   "execution_count": 2,
   "id": "8948be53",
   "metadata": {},
   "outputs": [],
   "source": [
    "day_care_df = pd.read_csv('day_care_center.csv')\n",
    "park_df = pd.read_csv('park.csv')\n",
    "test_df = pd.read_csv('test.csv')\n",
    "train_df = pd.read_csv('train.csv')"
   ]
  },
  {
   "cell_type": "markdown",
   "id": "79f98361",
   "metadata": {},
   "source": [
    "# day_care_df 전처리"
   ]
  },
  {
   "cell_type": "code",
   "execution_count": 3,
   "id": "d8fc2e36",
   "metadata": {
    "scrolled": true
   },
   "outputs": [
    {
     "name": "stdout",
     "output_type": "stream",
     "text": [
      "<class 'pandas.core.frame.DataFrame'>\n",
      "RangeIndex: 7551 entries, 0 to 7550\n",
      "Data columns (total 11 columns):\n",
      " #   Column                Non-Null Count  Dtype  \n",
      "---  ------                --------------  -----  \n",
      " 0   city                  7551 non-null   object \n",
      " 1   gu                    7551 non-null   object \n",
      " 2   day_care_name         7551 non-null   object \n",
      " 3   day_care_type         7551 non-null   object \n",
      " 4   day_care_baby_num     7551 non-null   int64  \n",
      " 5   teacher_num           7326 non-null   float64\n",
      " 6   nursing_room_num      4352 non-null   float64\n",
      " 7   playground_num        3626 non-null   float64\n",
      " 8   CCTV_num              5280 non-null   float64\n",
      " 9   is_commuting_vehicle  7055 non-null   object \n",
      " 10  reference_date        7551 non-null   object \n",
      "dtypes: float64(4), int64(1), object(6)\n",
      "memory usage: 649.0+ KB\n"
     ]
    }
   ],
   "source": [
    "day_care_df.info()"
   ]
  },
  {
   "cell_type": "code",
   "execution_count": 4,
   "id": "7f962336",
   "metadata": {},
   "outputs": [
    {
     "data": {
      "text/html": [
       "<div>\n",
       "<style scoped>\n",
       "    .dataframe tbody tr th:only-of-type {\n",
       "        vertical-align: middle;\n",
       "    }\n",
       "\n",
       "    .dataframe tbody tr th {\n",
       "        vertical-align: top;\n",
       "    }\n",
       "\n",
       "    .dataframe thead th {\n",
       "        text-align: right;\n",
       "    }\n",
       "</style>\n",
       "<table border=\"1\" class=\"dataframe\">\n",
       "  <thead>\n",
       "    <tr style=\"text-align: right;\">\n",
       "      <th></th>\n",
       "      <th>city</th>\n",
       "      <th>gu</th>\n",
       "      <th>day_care_name</th>\n",
       "      <th>day_care_type</th>\n",
       "      <th>day_care_baby_num</th>\n",
       "      <th>teacher_num</th>\n",
       "      <th>nursing_room_num</th>\n",
       "      <th>playground_num</th>\n",
       "      <th>CCTV_num</th>\n",
       "      <th>is_commuting_vehicle</th>\n",
       "      <th>reference_date</th>\n",
       "    </tr>\n",
       "  </thead>\n",
       "  <tbody>\n",
       "    <tr>\n",
       "      <th>0</th>\n",
       "      <td>서울특별시</td>\n",
       "      <td>서대문구</td>\n",
       "      <td>가람어린이집</td>\n",
       "      <td>국공립</td>\n",
       "      <td>70</td>\n",
       "      <td>11.0</td>\n",
       "      <td>5.0</td>\n",
       "      <td>1.0</td>\n",
       "      <td>7.0</td>\n",
       "      <td>N</td>\n",
       "      <td>2018-07-31</td>\n",
       "    </tr>\n",
       "    <tr>\n",
       "      <th>1</th>\n",
       "      <td>서울특별시</td>\n",
       "      <td>서대문구</td>\n",
       "      <td>가좌제일어린이집</td>\n",
       "      <td>국공립</td>\n",
       "      <td>88</td>\n",
       "      <td>22.0</td>\n",
       "      <td>5.0</td>\n",
       "      <td>2.0</td>\n",
       "      <td>10.0</td>\n",
       "      <td>N</td>\n",
       "      <td>2018-07-31</td>\n",
       "    </tr>\n",
       "    <tr>\n",
       "      <th>2</th>\n",
       "      <td>서울특별시</td>\n",
       "      <td>서대문구</td>\n",
       "      <td>경찰청어린이집</td>\n",
       "      <td>직장</td>\n",
       "      <td>90</td>\n",
       "      <td>23.0</td>\n",
       "      <td>6.0</td>\n",
       "      <td>1.0</td>\n",
       "      <td>32.0</td>\n",
       "      <td>N</td>\n",
       "      <td>2018-07-31</td>\n",
       "    </tr>\n",
       "    <tr>\n",
       "      <th>3</th>\n",
       "      <td>서울특별시</td>\n",
       "      <td>서대문구</td>\n",
       "      <td>고운햇살어린이집</td>\n",
       "      <td>가정</td>\n",
       "      <td>18</td>\n",
       "      <td>5.0</td>\n",
       "      <td>3.0</td>\n",
       "      <td>0.0</td>\n",
       "      <td>4.0</td>\n",
       "      <td>N</td>\n",
       "      <td>2018-07-31</td>\n",
       "    </tr>\n",
       "    <tr>\n",
       "      <th>4</th>\n",
       "      <td>서울특별시</td>\n",
       "      <td>서대문구</td>\n",
       "      <td>고은어린이집</td>\n",
       "      <td>국공립</td>\n",
       "      <td>93</td>\n",
       "      <td>20.0</td>\n",
       "      <td>7.0</td>\n",
       "      <td>2.0</td>\n",
       "      <td>10.0</td>\n",
       "      <td>N</td>\n",
       "      <td>2018-07-31</td>\n",
       "    </tr>\n",
       "  </tbody>\n",
       "</table>\n",
       "</div>"
      ],
      "text/plain": [
       "    city    gu day_care_name day_care_type  day_care_baby_num  teacher_num  \\\n",
       "0  서울특별시  서대문구        가람어린이집           국공립                 70         11.0   \n",
       "1  서울특별시  서대문구      가좌제일어린이집           국공립                 88         22.0   \n",
       "2  서울특별시  서대문구       경찰청어린이집            직장                 90         23.0   \n",
       "3  서울특별시  서대문구      고운햇살어린이집            가정                 18          5.0   \n",
       "4  서울특별시  서대문구        고은어린이집           국공립                 93         20.0   \n",
       "\n",
       "   nursing_room_num  playground_num  CCTV_num is_commuting_vehicle  \\\n",
       "0               5.0             1.0       7.0                    N   \n",
       "1               5.0             2.0      10.0                    N   \n",
       "2               6.0             1.0      32.0                    N   \n",
       "3               3.0             0.0       4.0                    N   \n",
       "4               7.0             2.0      10.0                    N   \n",
       "\n",
       "  reference_date  \n",
       "0     2018-07-31  \n",
       "1     2018-07-31  \n",
       "2     2018-07-31  \n",
       "3     2018-07-31  \n",
       "4     2018-07-31  "
      ]
     },
     "execution_count": 4,
     "metadata": {},
     "output_type": "execute_result"
    }
   ],
   "source": [
    "day_care_df.head()"
   ]
  },
  {
   "cell_type": "code",
   "execution_count": 5,
   "id": "f9e76671",
   "metadata": {},
   "outputs": [
    {
     "data": {
      "text/plain": [
       "array(['N', 'Y', ' ', nan, 'n', 'y'], dtype=object)"
      ]
     },
     "execution_count": 5,
     "metadata": {},
     "output_type": "execute_result"
    }
   ],
   "source": [
    "day_care_df['is_commuting_vehicle'].unique()"
   ]
  },
  {
   "cell_type": "code",
   "execution_count": 6,
   "id": "9a6781fb",
   "metadata": {},
   "outputs": [],
   "source": [
    "day_care_df = day_care_df.drop(columns = ['reference_date'])"
   ]
  },
  {
   "cell_type": "code",
   "execution_count": 7,
   "id": "ad76fdc9",
   "metadata": {},
   "outputs": [],
   "source": [
    "day_care_df = day_care_df[day_care_df['is_commuting_vehicle'] != ' ']"
   ]
  },
  {
   "cell_type": "code",
   "execution_count": 8,
   "id": "8790ea59",
   "metadata": {},
   "outputs": [],
   "source": [
    "day_care_df['is_commuting_vehicle'] = day_care_df['is_commuting_vehicle'].fillna('N')"
   ]
  },
  {
   "cell_type": "code",
   "execution_count": 9,
   "id": "ca319609",
   "metadata": {},
   "outputs": [],
   "source": [
    "day_care_df['is_commuting_vehicle'] = day_care_df['is_commuting_vehicle'].str.upper()"
   ]
  },
  {
   "cell_type": "code",
   "execution_count": 10,
   "id": "34ef84d7",
   "metadata": {},
   "outputs": [
    {
     "data": {
      "text/plain": [
       "array(['N', 'Y'], dtype=object)"
      ]
     },
     "execution_count": 10,
     "metadata": {},
     "output_type": "execute_result"
    }
   ],
   "source": [
    "day_care_df['is_commuting_vehicle'].unique()"
   ]
  },
  {
   "cell_type": "code",
   "execution_count": 11,
   "id": "3fc6beaf",
   "metadata": {},
   "outputs": [],
   "source": [
    "day_care_df = day_care_df.fillna(0)"
   ]
  },
  {
   "cell_type": "code",
   "execution_count": 12,
   "id": "c75eab62",
   "metadata": {},
   "outputs": [
    {
     "name": "stdout",
     "output_type": "stream",
     "text": [
      "<class 'pandas.core.frame.DataFrame'>\n",
      "Index: 7150 entries, 0 to 7550\n",
      "Data columns (total 10 columns):\n",
      " #   Column                Non-Null Count  Dtype  \n",
      "---  ------                --------------  -----  \n",
      " 0   city                  7150 non-null   object \n",
      " 1   gu                    7150 non-null   object \n",
      " 2   day_care_name         7150 non-null   object \n",
      " 3   day_care_type         7150 non-null   object \n",
      " 4   day_care_baby_num     7150 non-null   int64  \n",
      " 5   teacher_num           7150 non-null   float64\n",
      " 6   nursing_room_num      7150 non-null   float64\n",
      " 7   playground_num        7150 non-null   float64\n",
      " 8   CCTV_num              7150 non-null   float64\n",
      " 9   is_commuting_vehicle  7150 non-null   object \n",
      "dtypes: float64(4), int64(1), object(5)\n",
      "memory usage: 614.5+ KB\n"
     ]
    }
   ],
   "source": [
    "day_care_df.info()"
   ]
  },
  {
   "cell_type": "markdown",
   "id": "6c861d39",
   "metadata": {},
   "source": [
    "# park_df 전처리"
   ]
  },
  {
   "cell_type": "code",
   "execution_count": 13,
   "id": "5cc1e0d4",
   "metadata": {},
   "outputs": [
    {
     "name": "stdout",
     "output_type": "stream",
     "text": [
      "<class 'pandas.core.frame.DataFrame'>\n",
      "RangeIndex: 1359 entries, 0 to 1358\n",
      "Data columns (total 13 columns):\n",
      " #   Column                       Non-Null Count  Dtype  \n",
      "---  ------                       --------------  -----  \n",
      " 0   city                         1359 non-null   object \n",
      " 1   gu                           1356 non-null   object \n",
      " 2   dong                         1359 non-null   object \n",
      " 3   park_name                    1359 non-null   object \n",
      " 4   park_type                    1359 non-null   object \n",
      " 5   park_area                    1359 non-null   float64\n",
      " 6   park_exercise_facility       277 non-null    object \n",
      " 7   park_entertainment_facility  435 non-null    object \n",
      " 8   park_benefit_facility        266 non-null    object \n",
      " 9   park_cultural_facitiy        72 non-null     object \n",
      " 10  park_facility_other          175 non-null    object \n",
      " 11  park_open_year               937 non-null    float64\n",
      " 12  reference_date               1359 non-null   object \n",
      "dtypes: float64(2), object(11)\n",
      "memory usage: 138.2+ KB\n"
     ]
    }
   ],
   "source": [
    "park_df.info()"
   ]
  },
  {
   "cell_type": "code",
   "execution_count": 14,
   "id": "5417c30c",
   "metadata": {},
   "outputs": [
    {
     "data": {
      "text/html": [
       "<div>\n",
       "<style scoped>\n",
       "    .dataframe tbody tr th:only-of-type {\n",
       "        vertical-align: middle;\n",
       "    }\n",
       "\n",
       "    .dataframe tbody tr th {\n",
       "        vertical-align: top;\n",
       "    }\n",
       "\n",
       "    .dataframe thead th {\n",
       "        text-align: right;\n",
       "    }\n",
       "</style>\n",
       "<table border=\"1\" class=\"dataframe\">\n",
       "  <thead>\n",
       "    <tr style=\"text-align: right;\">\n",
       "      <th></th>\n",
       "      <th>city</th>\n",
       "      <th>gu</th>\n",
       "      <th>dong</th>\n",
       "      <th>park_name</th>\n",
       "      <th>park_type</th>\n",
       "      <th>park_area</th>\n",
       "      <th>park_exercise_facility</th>\n",
       "      <th>park_entertainment_facility</th>\n",
       "      <th>park_benefit_facility</th>\n",
       "      <th>park_cultural_facitiy</th>\n",
       "      <th>park_facility_other</th>\n",
       "      <th>park_open_year</th>\n",
       "      <th>reference_date</th>\n",
       "    </tr>\n",
       "  </thead>\n",
       "  <tbody>\n",
       "    <tr>\n",
       "      <th>0</th>\n",
       "      <td>부산광역시</td>\n",
       "      <td>남구</td>\n",
       "      <td>대연동</td>\n",
       "      <td>대연공원</td>\n",
       "      <td>근린공원</td>\n",
       "      <td>55227.0</td>\n",
       "      <td>NaN</td>\n",
       "      <td>NaN</td>\n",
       "      <td>NaN</td>\n",
       "      <td>NaN</td>\n",
       "      <td>NaN</td>\n",
       "      <td>1944.0</td>\n",
       "      <td>2018-08-14</td>\n",
       "    </tr>\n",
       "    <tr>\n",
       "      <th>1</th>\n",
       "      <td>부산광역시</td>\n",
       "      <td>남구</td>\n",
       "      <td>대연동</td>\n",
       "      <td>당곡공원</td>\n",
       "      <td>역사공원</td>\n",
       "      <td>75465.0</td>\n",
       "      <td>NaN</td>\n",
       "      <td>NaN</td>\n",
       "      <td>NaN</td>\n",
       "      <td>NaN</td>\n",
       "      <td>NaN</td>\n",
       "      <td>1944.0</td>\n",
       "      <td>2018-08-14</td>\n",
       "    </tr>\n",
       "    <tr>\n",
       "      <th>2</th>\n",
       "      <td>부산광역시</td>\n",
       "      <td>남구</td>\n",
       "      <td>대연동</td>\n",
       "      <td>대일어린이공원</td>\n",
       "      <td>어린이공원</td>\n",
       "      <td>422.1</td>\n",
       "      <td>NaN</td>\n",
       "      <td>NaN</td>\n",
       "      <td>NaN</td>\n",
       "      <td>NaN</td>\n",
       "      <td>NaN</td>\n",
       "      <td>1965.0</td>\n",
       "      <td>2018-08-14</td>\n",
       "    </tr>\n",
       "    <tr>\n",
       "      <th>3</th>\n",
       "      <td>부산광역시</td>\n",
       "      <td>남구</td>\n",
       "      <td>대연동</td>\n",
       "      <td>못골어린이공원</td>\n",
       "      <td>어린이공원</td>\n",
       "      <td>499.8</td>\n",
       "      <td>NaN</td>\n",
       "      <td>NaN</td>\n",
       "      <td>NaN</td>\n",
       "      <td>NaN</td>\n",
       "      <td>NaN</td>\n",
       "      <td>1968.0</td>\n",
       "      <td>2018-08-14</td>\n",
       "    </tr>\n",
       "    <tr>\n",
       "      <th>4</th>\n",
       "      <td>부산광역시</td>\n",
       "      <td>남구</td>\n",
       "      <td>용호동</td>\n",
       "      <td>솔밭어린이공원</td>\n",
       "      <td>어린이공원</td>\n",
       "      <td>1500.2</td>\n",
       "      <td>NaN</td>\n",
       "      <td>NaN</td>\n",
       "      <td>NaN</td>\n",
       "      <td>NaN</td>\n",
       "      <td>NaN</td>\n",
       "      <td>1970.0</td>\n",
       "      <td>2018-08-14</td>\n",
       "    </tr>\n",
       "  </tbody>\n",
       "</table>\n",
       "</div>"
      ],
      "text/plain": [
       "    city  gu dong park_name park_type  park_area park_exercise_facility  \\\n",
       "0  부산광역시  남구  대연동      대연공원      근린공원    55227.0                    NaN   \n",
       "1  부산광역시  남구  대연동      당곡공원      역사공원    75465.0                    NaN   \n",
       "2  부산광역시  남구  대연동   대일어린이공원     어린이공원      422.1                    NaN   \n",
       "3  부산광역시  남구  대연동   못골어린이공원     어린이공원      499.8                    NaN   \n",
       "4  부산광역시  남구  용호동   솔밭어린이공원     어린이공원     1500.2                    NaN   \n",
       "\n",
       "  park_entertainment_facility park_benefit_facility park_cultural_facitiy  \\\n",
       "0                         NaN                   NaN                   NaN   \n",
       "1                         NaN                   NaN                   NaN   \n",
       "2                         NaN                   NaN                   NaN   \n",
       "3                         NaN                   NaN                   NaN   \n",
       "4                         NaN                   NaN                   NaN   \n",
       "\n",
       "  park_facility_other  park_open_year reference_date  \n",
       "0                 NaN          1944.0     2018-08-14  \n",
       "1                 NaN          1944.0     2018-08-14  \n",
       "2                 NaN          1965.0     2018-08-14  \n",
       "3                 NaN          1968.0     2018-08-14  \n",
       "4                 NaN          1970.0     2018-08-14  "
      ]
     },
     "execution_count": 14,
     "metadata": {},
     "output_type": "execute_result"
    }
   ],
   "source": [
    "park_df.head()"
   ]
  },
  {
   "cell_type": "code",
   "execution_count": 15,
   "id": "a3780b9d",
   "metadata": {},
   "outputs": [],
   "source": [
    "park_df = park_df.drop(columns = ['reference_date','park_open_year'])"
   ]
  },
  {
   "cell_type": "markdown",
   "id": "ba81bcd7",
   "metadata": {},
   "source": [
    "## 운동시설 전처리"
   ]
  },
  {
   "cell_type": "code",
   "execution_count": 16,
   "id": "3a43ef52",
   "metadata": {},
   "outputs": [],
   "source": [
    "park_df['park_exercise_facility'] = park_df['park_exercise_facility'].replace('배드민턴장 게이트볼장 족구장', '배드민턴장,게이트볼장,족구장')"
   ]
  },
  {
   "cell_type": "code",
   "execution_count": 17,
   "id": "37478b82",
   "metadata": {},
   "outputs": [],
   "source": [
    "park_df['park_exercise_facility'] = park_df['park_exercise_facility'].str.split(',', expand=True).stack().reset_index(level=1, drop=True).reset_index(drop=True)"
   ]
  },
  {
   "cell_type": "code",
   "execution_count": 18,
   "id": "e554e6e5",
   "metadata": {},
   "outputs": [],
   "source": [
    "park_df['park_exercise_facility'] = park_df['park_exercise_facility'].str.strip('\"').str.strip()"
   ]
  },
  {
   "cell_type": "code",
   "execution_count": 19,
   "id": "178305a3",
   "metadata": {},
   "outputs": [
    {
     "data": {
      "text/plain": [
       "array(['게이트볼장', '풋살운동장', '배드민턴장', '야외헬스형운동기구 1개', '축구장', '테니스장', '다목적운동장',\n",
       "       '농구장', '체력단련시설', 'x-game장', '5', '3', '7', '12', '10조12종', '0',\n",
       "       '5조9종', '10', '11조14종', '6', '8', '9', '4', '5조7종', '3조4종', '5조8종',\n",
       "       '2조3종', '2', '11', '6조8종', '4조8종', '사격장', '철봉 등 6종', '철봉 2',\n",
       "       '운동기구 6종', '족구장', '농구장 반코트', '지압보도', '헬스형 운동기구 등', '체력단련장', '운동장',\n",
       "       '골프연습장', '배드민턴장 2개소', '체력단련시설 6개소 36개', '배드민턴장 1개소', '농구장 1개소',\n",
       "       '체력단련시설 3개소 29개', '농구정 1개소', '체력단련시설 1개소 7개', '체력단련시설 1개소 3개',\n",
       "       '없음', '체력단련시설 1개소 4개', '체력단련시설 1개소 6개', '체력단련시설 1개소 2개',\n",
       "       '체력단련시설 1개소 5개', '체력단련시설 2개소 5개', '체력단련시설 1개소', '실내배드민턴장', '구민운동장',\n",
       "       '다목적체육관', '체력단련기구', '운동광장', '게이트볼', '궁도장', '풋살경기장', '다목적 마당',\n",
       "       '인라인스케이트장', '잔디운동장', '실내체육관', '풋살구장', '배트민턴', '배드민턴장1', '배드민턴장6',\n",
       "       '게이트볼장1', '운동장1', '축구장2', '농구장2', '배구장1', '배드민턴장8', '기타4', '농구장1',\n",
       "       '배드민턴장4', '축구장1', '배드민턴장3', '기타1', '테니스장1', '배드민턴장2', '기타2',\n",
       "       '체육관(실내 배드민턴장) 1개동', '체력단련시설 23기', '체력단련시설 8기', '체력단련시설 4기',\n",
       "       '운동장 1개소', '배드민턴장 3개소', '골프연습장 1개소', '체력단련시설 81기', '체력단련시설 3기',\n",
       "       '체력단련시설 2기', '체력단련시설 30기', '체력단련시설 5기', '체력단련시설 11기', '체력단련시설 6기',\n",
       "       '다목적운동장 1개소', '30', '13', '40', '17', '에어로빅장', '씨름장', '-', '미조성',\n",
       "       '게이트볼장 등', '다목적 인조잔디마당', '배드민턴장 등', '농구대 2점', '농구대 외 1종 2점',\n",
       "       '농구대 1점', '체력단련시설 5점', '체력단련시설 6점', '체력단련시설 3점', '체력단련시설 9점',\n",
       "       '체력단련시설 2점', '체력단련시설 4점', '테니스장 1개소', '체력단력시설 95점', '수영장 1개소',\n",
       "       '배드민턴 2개소', '게이트볼 1개소', '체력단력시설 56점', '체력단련시설 12점', '체력단련시설 7점',\n",
       "       '운동장3개소', '체력단련시설 84점', '체력단련시설 65점', '체력단련시설 8점', '체력단련시설 11점',\n",
       "       '체력단력시설 14점', '체력단련시설 15점', nan], dtype=object)"
      ]
     },
     "execution_count": 19,
     "metadata": {},
     "output_type": "execute_result"
    }
   ],
   "source": [
    "park_df['park_exercise_facility'].unique()"
   ]
  },
  {
   "cell_type": "code",
   "execution_count": 20,
   "id": "c0db2f33",
   "metadata": {},
   "outputs": [],
   "source": [
    "# 숫자, 숫자조숫자종, '-', '없음', np.nan 값을 '미조성'으로 대체하는 함수 정의\n",
    "def replace_with_mijoseong(value):\n",
    "    if pd.isna(value) or value == '-' or value == '없음' or value == '':\n",
    "        return '미조성'\n",
    "    if isinstance(value, str):\n",
    "        if value.isdigit() or '조' in value:\n",
    "            return '미조성'\n",
    "    return value"
   ]
  },
  {
   "cell_type": "code",
   "execution_count": 21,
   "id": "93616e75",
   "metadata": {},
   "outputs": [],
   "source": [
    "park_df['park_exercise_facility'] = park_df['park_exercise_facility'].apply(replace_with_mijoseong)"
   ]
  },
  {
   "cell_type": "code",
   "execution_count": 22,
   "id": "876d7ec5",
   "metadata": {},
   "outputs": [
    {
     "data": {
      "text/plain": [
       "array(['게이트볼장', '풋살운동장', '배드민턴장', '야외헬스형운동기구 1개', '축구장', '테니스장', '다목적운동장',\n",
       "       '농구장', '체력단련시설', 'x-game장', '미조성', '사격장', '철봉 등 6종', '철봉 2',\n",
       "       '운동기구 6종', '족구장', '농구장 반코트', '지압보도', '헬스형 운동기구 등', '체력단련장', '운동장',\n",
       "       '골프연습장', '배드민턴장 2개소', '체력단련시설 6개소 36개', '배드민턴장 1개소', '농구장 1개소',\n",
       "       '체력단련시설 3개소 29개', '농구정 1개소', '체력단련시설 1개소 7개', '체력단련시설 1개소 3개',\n",
       "       '체력단련시설 1개소 4개', '체력단련시설 1개소 6개', '체력단련시설 1개소 2개', '체력단련시설 1개소 5개',\n",
       "       '체력단련시설 2개소 5개', '체력단련시설 1개소', '실내배드민턴장', '구민운동장', '다목적체육관',\n",
       "       '체력단련기구', '운동광장', '게이트볼', '궁도장', '풋살경기장', '다목적 마당', '인라인스케이트장',\n",
       "       '잔디운동장', '실내체육관', '풋살구장', '배트민턴', '배드민턴장1', '배드민턴장6', '게이트볼장1',\n",
       "       '운동장1', '축구장2', '농구장2', '배구장1', '배드민턴장8', '기타4', '농구장1', '배드민턴장4',\n",
       "       '축구장1', '배드민턴장3', '기타1', '테니스장1', '배드민턴장2', '기타2',\n",
       "       '체육관(실내 배드민턴장) 1개동', '체력단련시설 23기', '체력단련시설 8기', '체력단련시설 4기',\n",
       "       '운동장 1개소', '배드민턴장 3개소', '골프연습장 1개소', '체력단련시설 81기', '체력단련시설 3기',\n",
       "       '체력단련시설 2기', '체력단련시설 30기', '체력단련시설 5기', '체력단련시설 11기', '체력단련시설 6기',\n",
       "       '다목적운동장 1개소', '에어로빅장', '씨름장', '게이트볼장 등', '배드민턴장 등', '농구대 2점',\n",
       "       '농구대 외 1종 2점', '농구대 1점', '체력단련시설 5점', '체력단련시설 6점', '체력단련시설 3점',\n",
       "       '체력단련시설 9점', '체력단련시설 2점', '체력단련시설 4점', '테니스장 1개소', '체력단력시설 95점',\n",
       "       '수영장 1개소', '배드민턴 2개소', '게이트볼 1개소', '체력단력시설 56점', '체력단련시설 12점',\n",
       "       '체력단련시설 7점', '운동장3개소', '체력단련시설 84점', '체력단련시설 65점', '체력단련시설 8점',\n",
       "       '체력단련시설 11점', '체력단력시설 14점', '체력단련시설 15점'], dtype=object)"
      ]
     },
     "execution_count": 22,
     "metadata": {},
     "output_type": "execute_result"
    }
   ],
   "source": [
    "park_df['park_exercise_facility'].unique()"
   ]
  },
  {
   "cell_type": "code",
   "execution_count": 23,
   "id": "6fb16251",
   "metadata": {},
   "outputs": [],
   "source": [
    "park_df['park_exercise_facility'] = park_df['park_exercise_facility'].apply(lambda x: '배드민턴장' if '배드민턴' in x else x)\n",
    "park_df['park_exercise_facility'] = park_df['park_exercise_facility'].apply(lambda x: '게이트볼장' if '게이트볼' in x else x)\n",
    "park_df['park_exercise_facility'] = park_df['park_exercise_facility'].apply(lambda x: '풋살구장' if '풋살' in x else x)\n",
    "park_df['park_exercise_facility'] = park_df['park_exercise_facility'].apply(lambda x: '운동기구' if '기구' in x else x)\n",
    "park_df['park_exercise_facility'] = park_df['park_exercise_facility'].apply(lambda x: '체력단련장'if '체력단련시설' in x else x)\n",
    "park_df['park_exercise_facility'] = park_df['park_exercise_facility'].apply(lambda x: '테니스장' if '테니스' in x else x)\n",
    "park_df['park_exercise_facility'] = park_df['park_exercise_facility'].apply(lambda x: '농구장' if '농구' in x or '농구정' in x else x)\n",
    "park_df['park_exercise_facility'] = park_df['park_exercise_facility'].apply(lambda x: '골프연습장' if '골프연습' in x else x)\n",
    "park_df['park_exercise_facility'] = park_df['park_exercise_facility'].apply(lambda x: '배드민턴장' if '배드민턴' in x else x)\n",
    "park_df['park_exercise_facility'] = park_df['park_exercise_facility'].apply(lambda x: '운동장' if '운동' in x else x)\n",
    "park_df['park_exercise_facility'] = park_df['park_exercise_facility'].apply(lambda x: '기타' if '기타' in x else x)\n",
    "park_df['park_exercise_facility'] = park_df['park_exercise_facility'].apply(lambda x: '철봉' if '철봉' in x else x)\n",
    "park_df['park_exercise_facility'] = park_df['park_exercise_facility'].apply(lambda x: '수영장' if '수영' in x else x)\n",
    "park_df['park_exercise_facility'] = park_df['park_exercise_facility'].apply(lambda x: '축구장' if '축구장' in x else x)\n",
    "park_df['park_exercise_facility'] = park_df['park_exercise_facility'].apply(lambda x: '배구장' if '배구장' in x else x)"
   ]
  },
  {
   "cell_type": "code",
   "execution_count": 24,
   "id": "a2785196",
   "metadata": {},
   "outputs": [
    {
     "data": {
      "text/plain": [
       "array(['게이트볼장', '풋살구장', '배드민턴장', '운동장', '축구장', '테니스장', '농구장', '체력단련장',\n",
       "       'x-game장', '미조성', '사격장', '철봉', '족구장', '지압보도', '골프연습장', '다목적체육관',\n",
       "       '궁도장', '다목적 마당', '인라인스케이트장', '실내체육관', '배트민턴', '배구장', '기타', '에어로빅장',\n",
       "       '씨름장', '체력단력시설 95점', '수영장', '체력단력시설 56점', '체력단력시설 14점'],\n",
       "      dtype=object)"
      ]
     },
     "execution_count": 24,
     "metadata": {},
     "output_type": "execute_result"
    }
   ],
   "source": [
    "park_df['park_exercise_facility'].unique()"
   ]
  },
  {
   "cell_type": "markdown",
   "id": "e5c3c34c",
   "metadata": {},
   "source": [
    "## 놀이터 전처리"
   ]
  },
  {
   "cell_type": "code",
   "execution_count": 25,
   "id": "23f2ca17",
   "metadata": {},
   "outputs": [],
   "source": [
    "park_df['park_entertainment_facility'] = park_df['park_entertainment_facility'].replace('조합놀이대정글짐흔들놀이', '조합놀이대,정글짐,흔들놀이')\n",
    "park_df['park_entertainment_facility'] = park_df['park_entertainment_facility'].replace('조합놀이대그네', '조합놀이대,그네')\n",
    "park_df['park_entertainment_facility'] = park_df['park_entertainment_facility'].replace('조합놀이대 시소', '조합놀이대,시소')\n",
    "park_df['park_entertainment_facility'] = park_df['park_entertainment_facility'].replace('조합놀이대 그네 흔들놀이', '조합놀이대,그네,흔들놀이')\n",
    "park_df['park_entertainment_facility'] = park_df['park_entertainment_facility'].replace('조합놀이대 그네', '조합놀이대,그네')\n",
    "park_df['park_entertainment_facility'] = park_df['park_entertainment_facility'].replace('조합놀이대 시소 흔들놀이', '조합놀이대,시소,흔들놀이')\n",
    "park_df['park_entertainment_facility'] = park_df['park_entertainment_facility'].replace('조합놀이대 그네 시소', '조합놀이대,그네,시소')\n",
    "park_df['park_entertainment_facility'] = park_df['park_entertainment_facility'].replace('그네 회전놀이 조합놀이대', '조합놀이대,그네,회전놀이')"
   ]
  },
  {
   "cell_type": "code",
   "execution_count": 26,
   "id": "81658529",
   "metadata": {},
   "outputs": [],
   "source": [
    "park_df['park_entertainment_facility'] = park_df['park_entertainment_facility'].str.split(',', expand=True).stack().reset_index(level=1, drop=True).reset_index(drop=True)"
   ]
  },
  {
   "cell_type": "code",
   "execution_count": 27,
   "id": "416333f5",
   "metadata": {},
   "outputs": [],
   "source": [
    "park_df['park_entertainment_facility'] = park_df['park_entertainment_facility'].str.split('+', expand=True).stack().reset_index(level=1, drop=True).reset_index(drop=True)"
   ]
  },
  {
   "cell_type": "code",
   "execution_count": 28,
   "id": "1a35a8c0",
   "metadata": {},
   "outputs": [
    {
     "data": {
      "text/plain": [
       "array(['조합놀이대 등', '조합놀이대', '목마시소', '\"조합놀이대', ' 그네', ' 시소\"', ' 흔들놀이\"',\n",
       "       ' 그네\"', ' 흔들놀이대\"', ' 건너는기구\"', '\"시소', ' 흔들놀이기구\"', '\"미끄럼틀', ' 시소',\n",
       "       '흔들말', '그네', '오르는기구', '시소', '미끄럼틀', '흔들놀이\"', '흔들놀이', '시소\"', '\"모래밭',\n",
       "       '조합놀이\"', '그네\"', '오르는', '정글짐', ' 미끄럼틀\"', ' 흔들놀이', ' 회전놀이', ' 오르기\"',\n",
       "       ' 모래놀이터\"', ' 흔들놀이대', ' 숲속놀이터', '\"자동차놀이대', ' 기차신호등\"', ' 회전놀이\"',\n",
       "       ' 회전무대\"', '\"그네', ' 조합놀이대\"', '\"조합놀이대 1기', ' 시소 2개\"', '없음',\n",
       "       '\"조합놀이대 1개소', ' 모래밭 1개소\"', ' 그네 1개\"', ' 그네 1개', ' 시소 1개\"',\n",
       "       ' 그네 1개소', '\"', '조합놀이대 1개소', '\"놀이대 2개소', ' 미끄럼틀 1개소\"', ' 시소 1개소\"',\n",
       "       '\"시소 1개', ' 기타 4개\"', '회전놀이', '숲속놀이터', '모래놀이터', '\"어린이놀이터',\n",
       "       ' 발물놀이터\"', '\"케이블카', ' 어린이유희시설', ' 가족유희시설', ' 짚라인\"', '\"유희시설', ' 삭도',\n",
       "       ' 어드벤처', ' 숲속어드벤처\"', '\"조합놀이대1', ' 그네1', ' 시소2', ' 흔들놀이3',\n",
       "       ' 모래놀이시설6㎡\"', ' 흔들놀이4', ' 모래놀이시설60㎡\"', ' 유아용조합놀이대1', ' 그네2',\n",
       "       ' 회전놀이5\"', ' 시소1', ' 흔들말2\"', ' 흔들놀이2', ' 까꿍놀이대1\"', ' 시소2\"',\n",
       "       ' 흔들놀이3\"', ' 유아용조합놀이대1\"', ' 별자리지붕게임형운동시설1', ' 모래놀이시설15㎡\"',\n",
       "       ' 흔들놀이5', ' 모래놀이시설14㎡\"', ' 흔들놀이대2', ' 모래놀이시설12㎡\"', ' 유아조합놀이대1',\n",
       "       ' 모래놀이시설27㎡\"', '조합놀이대1', ' 요술 거울5', ' 모래놀이시설35㎡\"', ' 흔들놀이2\"',\n",
       "       ' 흔들놀이1', ' 모래놀이시설10㎡\"', ' 암벽조합놀이대1', '\"조합놀이대2', ' 모래놀이시설37㎡\"',\n",
       "       ' 모래밭', ' 정글집\"', ' 기타4\"', '\"그네1', ' 조합노이대3', '기타7', '기타1',\n",
       "       '유아용조합놀이대1', ' 그네1\"', '\"유아용조합놀이대1', ' 네트놀이대1', ' 석탑2', ' 돌기둥3',\n",
       "       ' 모래놀이터1\"', ' 모래놀이터1', ' 파이프놀이대3\"', '조형물1', ' 얼룩말놀이대1',\n",
       "       ' 아빠공룡놀이대1', ' 스페이스쉽1', ' 플레이터치1', ' 흔들놀이대2\"', '\"장기판1', ' 조형물1\"',\n",
       "       ' 기타 4기\"', ' 그네 1기', ' 미끄럼틀 1기', ' 시소 1기', ' 기타 1기\"', ' 기타 2기\"',\n",
       "       ' 시소 1기\"', '\"시소 1기', '조합놀이대 2기', '\"그네1기', ' 모래밭 1기', ' 사닥다리 1기\"',\n",
       "       ' 그네 1기\"', ' 정글짐 1기\"', ' 기타 3기\"', ' 그네1기', '\"미끄럼틀 1기', '조합놀이대 1기',\n",
       "       '\"조합놀이대 2기', ' 그네 2기', ' 시페이스네트 1기', ' 흔들놀이 6기\"', ' 흔들놀이 2기\"',\n",
       "       '기타 6기', ' 기타 5기\"', '\"그네 1기', ' 조합놀이대 1기', '\"조합놀이기구1', ' 흔들놀이기구 4',\n",
       "       ' 시소1\"', ' 흔들놀이기구 3', ' 흔들놀이기구3\"', '조합놀이기구1', ' 흔들놀이기구3', ' 그네2\"',\n",
       "       '흔들놀이기구6', '조합놀이기구', ' 흔드놀이기구3', '\"조합놀이기구', ' 회전무대', ' 놀이벽\"',\n",
       "       ' 미끄럼대', ' 물통놀이집', ' 어드벤처놀이대', ' 모래삽놀이대', ' 잎새통과하기', ' 꽃점핑놀이대\"',\n",
       "       ' 흔들놀이기구', ' 모래놀이집', ' 울림나팔', ' 나무실로폰', ' 착시거울\"', ' 정글짐\"', '-',\n",
       "       '미조성', '놀이마당', ' 그네 ', ' 그네 등', ' 모래놀이터 등', '조합놀이대 1점',\n",
       "       '조합놀이대 외 2종 5점', '조합놀이대 외 2종 4점', '조합놀이대 외 3종 5점', '조합놀이대 외 2종 3점',\n",
       "       '조합놀이대 외 2종 2점', '조합놀이대 외 8종 11점', '조합놀이대 외 1종 2점',\n",
       "       '조합놀이대 외 4종 6점', '시소 외 1종 2점', '조합놀이대 외 1종 4점', '조합놀이대 외 1종 3점',\n",
       "       '조합놀이대 외 3종 4점', '모험시설 등 22종 23점', '조합놀이 1기', '모래밭 1기', '그네 1기',\n",
       "       ' 조합놀이 1기', ' 시소1기', ' 시소 2기', ' 조합놀이 2기', '시소 1기', '모래밭 2기',\n",
       "       ' 조합놀이 3기', ' 흔들놀이 6기', '조합놀이 2기', nan], dtype=object)"
      ]
     },
     "execution_count": 28,
     "metadata": {},
     "output_type": "execute_result"
    }
   ],
   "source": [
    "park_df['park_entertainment_facility'].unique()"
   ]
  },
  {
   "cell_type": "code",
   "execution_count": 29,
   "id": "cf3c27f3",
   "metadata": {},
   "outputs": [],
   "source": [
    "park_df['park_entertainment_facility'] = park_df['park_entertainment_facility'].str.strip('\"').str.strip()"
   ]
  },
  {
   "cell_type": "code",
   "execution_count": 30,
   "id": "727b6ffc",
   "metadata": {},
   "outputs": [
    {
     "data": {
      "text/plain": [
       "array(['조합놀이대 등', '조합놀이대', '목마시소', '그네', '시소', '흔들놀이', '흔들놀이대', '건너는기구',\n",
       "       '흔들놀이기구', '미끄럼틀', '흔들말', '오르는기구', '모래밭', '조합놀이', '오르는', '정글짐',\n",
       "       '회전놀이', '오르기', '모래놀이터', '숲속놀이터', '자동차놀이대', '기차신호등', '회전무대',\n",
       "       '조합놀이대 1기', '시소 2개', '없음', '조합놀이대 1개소', '모래밭 1개소', '그네 1개',\n",
       "       '시소 1개', '그네 1개소', '', '놀이대 2개소', '미끄럼틀 1개소', '시소 1개소', '기타 4개',\n",
       "       '어린이놀이터', '발물놀이터', '케이블카', '어린이유희시설', '가족유희시설', '짚라인', '유희시설',\n",
       "       '삭도', '어드벤처', '숲속어드벤처', '조합놀이대1', '그네1', '시소2', '흔들놀이3',\n",
       "       '모래놀이시설6㎡', '흔들놀이4', '모래놀이시설60㎡', '유아용조합놀이대1', '그네2', '회전놀이5',\n",
       "       '시소1', '흔들말2', '흔들놀이2', '까꿍놀이대1', '별자리지붕게임형운동시설1', '모래놀이시설15㎡',\n",
       "       '흔들놀이5', '모래놀이시설14㎡', '흔들놀이대2', '모래놀이시설12㎡', '유아조합놀이대1',\n",
       "       '모래놀이시설27㎡', '요술 거울5', '모래놀이시설35㎡', '흔들놀이1', '모래놀이시설10㎡',\n",
       "       '암벽조합놀이대1', '조합놀이대2', '모래놀이시설37㎡', '정글집', '기타4', '조합노이대3', '기타7',\n",
       "       '기타1', '네트놀이대1', '석탑2', '돌기둥3', '모래놀이터1', '파이프놀이대3', '조형물1',\n",
       "       '얼룩말놀이대1', '아빠공룡놀이대1', '스페이스쉽1', '플레이터치1', '장기판1', '기타 4기',\n",
       "       '그네 1기', '미끄럼틀 1기', '시소 1기', '기타 1기', '기타 2기', '조합놀이대 2기', '그네1기',\n",
       "       '모래밭 1기', '사닥다리 1기', '정글짐 1기', '기타 3기', '그네 2기', '시페이스네트 1기',\n",
       "       '흔들놀이 6기', '흔들놀이 2기', '기타 6기', '기타 5기', '조합놀이기구1', '흔들놀이기구 4',\n",
       "       '흔들놀이기구 3', '흔들놀이기구3', '흔들놀이기구6', '조합놀이기구', '흔드놀이기구3', '놀이벽',\n",
       "       '미끄럼대', '물통놀이집', '어드벤처놀이대', '모래삽놀이대', '잎새통과하기', '꽃점핑놀이대', '모래놀이집',\n",
       "       '울림나팔', '나무실로폰', '착시거울', '-', '미조성', '놀이마당', '그네 등', '모래놀이터 등',\n",
       "       '조합놀이대 1점', '조합놀이대 외 2종 5점', '조합놀이대 외 2종 4점', '조합놀이대 외 3종 5점',\n",
       "       '조합놀이대 외 2종 3점', '조합놀이대 외 2종 2점', '조합놀이대 외 8종 11점',\n",
       "       '조합놀이대 외 1종 2점', '조합놀이대 외 4종 6점', '시소 외 1종 2점', '조합놀이대 외 1종 4점',\n",
       "       '조합놀이대 외 1종 3점', '조합놀이대 외 3종 4점', '모험시설 등 22종 23점', '조합놀이 1기',\n",
       "       '시소1기', '시소 2기', '조합놀이 2기', '모래밭 2기', '조합놀이 3기', nan], dtype=object)"
      ]
     },
     "execution_count": 30,
     "metadata": {},
     "output_type": "execute_result"
    }
   ],
   "source": [
    "park_df['park_entertainment_facility'].unique()"
   ]
  },
  {
   "cell_type": "code",
   "execution_count": 31,
   "id": "7113c71a",
   "metadata": {},
   "outputs": [],
   "source": [
    "park_df['park_entertainment_facility'] = park_df['park_entertainment_facility'].apply(replace_with_mijoseong)"
   ]
  },
  {
   "cell_type": "code",
   "execution_count": 32,
   "id": "19930734",
   "metadata": {},
   "outputs": [
    {
     "data": {
      "text/plain": [
       "array(['미조성', '목마시소', '그네', '시소', '흔들놀이', '흔들놀이대', '건너는기구', '흔들놀이기구',\n",
       "       '미끄럼틀', '흔들말', '오르는기구', '모래밭', '오르는', '정글짐', '회전놀이', '오르기',\n",
       "       '모래놀이터', '숲속놀이터', '자동차놀이대', '기차신호등', '회전무대', '시소 2개', '모래밭 1개소',\n",
       "       '그네 1개', '시소 1개', '그네 1개소', '놀이대 2개소', '미끄럼틀 1개소', '시소 1개소',\n",
       "       '기타 4개', '어린이놀이터', '발물놀이터', '케이블카', '어린이유희시설', '가족유희시설', '짚라인',\n",
       "       '유희시설', '삭도', '어드벤처', '숲속어드벤처', '그네1', '시소2', '흔들놀이3', '모래놀이시설6㎡',\n",
       "       '흔들놀이4', '모래놀이시설60㎡', '그네2', '회전놀이5', '시소1', '흔들말2', '흔들놀이2',\n",
       "       '까꿍놀이대1', '별자리지붕게임형운동시설1', '모래놀이시설15㎡', '흔들놀이5', '모래놀이시설14㎡',\n",
       "       '흔들놀이대2', '모래놀이시설12㎡', '모래놀이시설27㎡', '요술 거울5', '모래놀이시설35㎡', '흔들놀이1',\n",
       "       '모래놀이시설10㎡', '모래놀이시설37㎡', '정글집', '기타4', '기타7', '기타1', '네트놀이대1',\n",
       "       '석탑2', '돌기둥3', '모래놀이터1', '파이프놀이대3', '얼룩말놀이대1', '아빠공룡놀이대1',\n",
       "       '스페이스쉽1', '플레이터치1', '장기판1', '기타 4기', '그네 1기', '미끄럼틀 1기', '시소 1기',\n",
       "       '기타 1기', '기타 2기', '그네1기', '모래밭 1기', '사닥다리 1기', '정글짐 1기', '기타 3기',\n",
       "       '그네 2기', '시페이스네트 1기', '흔들놀이 6기', '흔들놀이 2기', '기타 6기', '기타 5기',\n",
       "       '흔들놀이기구 4', '흔들놀이기구 3', '흔들놀이기구3', '흔들놀이기구6', '흔드놀이기구3', '놀이벽',\n",
       "       '미끄럼대', '물통놀이집', '어드벤처놀이대', '모래삽놀이대', '잎새통과하기', '꽃점핑놀이대', '모래놀이집',\n",
       "       '울림나팔', '나무실로폰', '착시거울', '놀이마당', '그네 등', '모래놀이터 등', '시소 외 1종 2점',\n",
       "       '모험시설 등 22종 23점', '시소1기', '시소 2기', '모래밭 2기'], dtype=object)"
      ]
     },
     "execution_count": 32,
     "metadata": {},
     "output_type": "execute_result"
    }
   ],
   "source": [
    "park_df['park_entertainment_facility'].unique()"
   ]
  },
  {
   "cell_type": "code",
   "execution_count": 33,
   "id": "14226f13",
   "metadata": {},
   "outputs": [],
   "source": [
    "park_df['park_entertainment_facility'] = park_df['park_entertainment_facility'].apply(lambda x: '시소' if '시소' in x else x)\n",
    "park_df['park_entertainment_facility'] = park_df['park_entertainment_facility'].apply(lambda x: '그네' if '그네' in x else x)\n",
    "park_df['park_entertainment_facility'] = park_df['park_entertainment_facility'].apply(lambda x: '흔들놀이' if '흔들' in x or '흔드' in x else x)\n",
    "park_df['park_entertainment_facility'] = park_df['park_entertainment_facility'].apply(lambda x: '미끄럼틀' if '미끄럼' in x else x)\n",
    "park_df['park_entertainment_facility'] = park_df['park_entertainment_facility'].apply(lambda x: '오르는기구' if '오르' in x else x)\n",
    "park_df['park_entertainment_facility'] = park_df['park_entertainment_facility'].apply(lambda x: '회전놀이' if '회전' in x else x)\n",
    "park_df['park_entertainment_facility'] = park_df['park_entertainment_facility'].apply(lambda x: '모래놀이터' if '모래' in x else x)\n",
    "park_df['park_entertainment_facility'] = park_df['park_entertainment_facility'].apply(lambda x: '놀이터' if '숲속놀이터' in x or '자동차놀이대' in x or '놀이대' in x or '어린이놀이터' in x or '발물놀이터' in x or'별자리지붕게임형운동시설1'in x or '파이프' in x or '얼룩말' in x or '아빠' in x or '잎새' in x or '꽃점핑' in x or '까꿍' in x or '놀이마당' in x or '놀이벽' in x else x)\n",
    "park_df['park_entertainment_facility'] = park_df['park_entertainment_facility'].apply(lambda x: '유희시설' if '유희' in x else x)\n",
    "park_df['park_entertainment_facility'] = park_df['park_entertainment_facility'].apply(lambda x: '어드벤처시설' if '어드벤처' in x or '모험'in x else x)\n",
    "park_df['park_entertainment_facility'] = park_df['park_entertainment_facility'].apply(lambda x: '기타' if '기타' in x  else x)\n",
    "park_df['park_entertainment_facility'] = park_df['park_entertainment_facility'].apply(lambda x: '정글짐' if '정글' in x else x)\n",
    "park_df['park_entertainment_facility'] = park_df['park_entertainment_facility'].apply(lambda x: '석탑'if '석탑' in x or '돌기둥' in x else x)\n",
    "park_df['park_entertainment_facility'] = park_df['park_entertainment_facility'].apply(lambda x: '요술거울' if '거울' in x else x)\n"
   ]
  },
  {
   "cell_type": "code",
   "execution_count": 34,
   "id": "be560893",
   "metadata": {},
   "outputs": [],
   "source": [
    "def remove_numbers_from_string(input_string):\n",
    "    # 정규표현식을 사용하여 숫자가 시작하는 부분부터 제거\n",
    "    result = re.sub(r'\\d.*', '', input_string)\n",
    "    return result.strip()"
   ]
  },
  {
   "cell_type": "code",
   "execution_count": 35,
   "id": "2476dcf6",
   "metadata": {},
   "outputs": [],
   "source": [
    "park_df['park_entertainment_facility'] = park_df['park_entertainment_facility'].apply(remove_numbers_from_string)"
   ]
  },
  {
   "cell_type": "code",
   "execution_count": 36,
   "id": "6c2d7142",
   "metadata": {},
   "outputs": [
    {
     "data": {
      "text/plain": [
       "array(['미조성', '시소', '그네', '흔들놀이', '건너는기구', '미끄럼틀', '오르는기구', '모래놀이터',\n",
       "       '정글짐', '회전놀이', '놀이터', '기차신호등', '기타', '케이블카', '유희시설', '짚라인', '삭도',\n",
       "       '어드벤처시설', '요술거울', '석탑', '스페이스쉽', '플레이터치', '장기판', '사닥다리', '시페이스네트',\n",
       "       '물통놀이집', '울림나팔', '나무실로폰'], dtype=object)"
      ]
     },
     "execution_count": 36,
     "metadata": {},
     "output_type": "execute_result"
    }
   ],
   "source": [
    "park_df['park_entertainment_facility'].unique()"
   ]
  },
  {
   "cell_type": "markdown",
   "id": "7b18ed15",
   "metadata": {},
   "source": [
    "## 편의시설 전처리"
   ]
  },
  {
   "cell_type": "code",
   "execution_count": 37,
   "id": "7eef005a",
   "metadata": {},
   "outputs": [
    {
     "data": {
      "text/plain": [
       "array([nan, '화장실', '음수대', '\"화장실,음수대\"', '\"화장실,음수대,주차장\"', '\"화장실,음수대,공중전화\"',\n",
       "       '\"화장실,주차장\"', '파고라', '0', '음식점', '전망대', '파고라 6개', '정자 1개', '파고라 1개',\n",
       "       '파고라 4개', '파고라1개', '음수전', '\"정자, 벤치, 화장실\"', '\"파고라, 전망데크, 벤치, 화장실\"',\n",
       "       '\"파고라, 벤치, 화장실\"', '벤치', '\"파고라, 벤치\"', '평의자 등', '\"파고라, 음수대 등\"',\n",
       "       '\"음수대, 평의자 등\"', '\"파고라, 평의자 등\"', '\"화장실, 음수대\"',\n",
       "       '\"주차장, 매점, 화장실, 음수대\"', '화장실 1개소', '없음', '화장실 약수터 주차장', '먹는물공동시설',\n",
       "       '\"주차장, 화장실, 음수대, 먹는물공동시설, 시계탑\"', '\"간이화장실, 음수대, 먹는물공동시설\"',\n",
       "       '\"주차장,화장실, 대중음식점,매점,전망대,다과점,치유센터,숲속요가장및 풍욕장, 낙상예방코스\"',\n",
       "       '\"제1주차장, 전망대, 매점, 매점(기념품), 휴게음식점, 간이화장실,  공중화장실, 휴게음식점(푸드트럭)\"',\n",
       "       '\"공중화장실, 유스호스텔, 전망대, 주차장\"', '\"주차장1, 화장실1, (간이)화장실1\"',\n",
       "       '\"주차장3, (간이)화장실1\"', '화장실1', '\"주차장1, 화장실2\"', '\"주차장1, 화장실1\"',\n",
       "       '\"주차장2, 화장실(발효식)1\"', '\"주차장, 화장실2\"', '공중전화1', '시계탑 1기',\n",
       "       '\"주차장 2개소(80대), 화장실 1개소, 발효식화장실 4기\"', '음수대 1개소',\n",
       "       '\"주차장 1개소(65대), 매점 2개소, 화장실 3개소, 음수대 4기\"', '발효식화장실 2기',\n",
       "       '\"화장실 1개소, 음수대 1개소\"', '음수대 2개소', '\"화장실2, 주차장, 관리사무소\"',\n",
       "       '\"화장실, 주차장\"', '문화회관', '\"음수전, 주차장\"', '\"주차장, 화장실\"', '주차장,화장실',\n",
       "       '\"케이블카 하부정류장, 주차장, 화장실 등\"', '\"케이블카 상부정류장, 화장실 등\"', '미조성',\n",
       "       '\"화장실, 음수장\"', '주차장, 매점, 화장실, 음수대 등', '화장실, 음수대', '주차장, 화장실',\n",
       "       '주차장 1개소, 화장실 1개소, 음수대 1기', '음수대 2기', '음수대 1기',\n",
       "       '주차장 1개소, 화장실 1개소, 공중전화 3기, 음수대 6기, 시계탑 2기', '음수대1기, 화장실 1개소',\n",
       "       '샘터 3개소', '샘터 1개소', '샘터 1개소, 파고라 1동'], dtype=object)"
      ]
     },
     "execution_count": 37,
     "metadata": {},
     "output_type": "execute_result"
    }
   ],
   "source": [
    "park_df['park_benefit_facility'].unique()"
   ]
  },
  {
   "cell_type": "code",
   "execution_count": 38,
   "id": "64f3016e",
   "metadata": {},
   "outputs": [],
   "source": [
    "park_df['park_benefit_facility'] = park_df['park_benefit_facility'].replace('화장실 약수터 주차장', '화장실,약수터,주차장')\n",
    "park_df['park_benefit_facility'] = park_df['park_benefit_facility'].replace('숲속요가장및 풍욕장', '숲속요가장,풍욕장')"
   ]
  },
  {
   "cell_type": "code",
   "execution_count": 39,
   "id": "bce4e9ab",
   "metadata": {},
   "outputs": [],
   "source": [
    "park_df['park_benefit_facility'] = park_df['park_benefit_facility'].str.split(',', expand=True).stack().reset_index(level=1, drop=True).reset_index(drop=True)"
   ]
  },
  {
   "cell_type": "code",
   "execution_count": 40,
   "id": "886e1f6f",
   "metadata": {},
   "outputs": [],
   "source": [
    "park_df['park_benefit_facility'] = park_df['park_benefit_facility'].str.strip('\"').str.strip()"
   ]
  },
  {
   "cell_type": "code",
   "execution_count": 41,
   "id": "2f1d1211",
   "metadata": {},
   "outputs": [
    {
     "data": {
      "text/plain": [
       "array(['화장실', '음수대', '주차장', '공중전화', '파고라', '0', '음식점', '전망대', '파고라 6개',\n",
       "       '정자 1개', '파고라 1개', '파고라 4개', '파고라1개', '음수전', '정자', '벤치', '전망데크',\n",
       "       '평의자 등', '음수대 등', '매점', '화장실 1개소', '없음', '약수터', '먹는물공동시설', '시계탑',\n",
       "       '간이화장실', '대중음식점', '다과점', '치유센터', '숲속요가장및 풍욕장', '낙상예방코스', '제1주차장',\n",
       "       '매점(기념품)', '휴게음식점', '공중화장실', '휴게음식점(푸드트럭)', '유스호스텔', '주차장1',\n",
       "       '화장실1', '(간이)화장실1', '주차장3', '화장실2', '주차장2', '화장실(발효식)1', '공중전화1',\n",
       "       '시계탑 1기', '주차장 2개소(80대)', '발효식화장실 4기', '음수대 1개소', '주차장 1개소(65대)',\n",
       "       '매점 2개소', '화장실 3개소', '음수대 4기', '발효식화장실 2기', '음수대 2개소', '관리사무소',\n",
       "       '문화회관', '케이블카 하부정류장', '화장실 등', '케이블카 상부정류장', '미조성', '음수장',\n",
       "       '주차장 1개소', '음수대 1기', '음수대 2기', '공중전화 3기', '음수대 6기', '시계탑 2기',\n",
       "       '음수대1기', '샘터 3개소', '샘터 1개소', '파고라 1동', nan], dtype=object)"
      ]
     },
     "execution_count": 41,
     "metadata": {},
     "output_type": "execute_result"
    }
   ],
   "source": [
    "park_df['park_benefit_facility'].unique()"
   ]
  },
  {
   "cell_type": "code",
   "execution_count": 42,
   "id": "e1912b60",
   "metadata": {},
   "outputs": [],
   "source": [
    "park_df['park_benefit_facility'] = park_df['park_benefit_facility'].apply(replace_with_mijoseong)"
   ]
  },
  {
   "cell_type": "code",
   "execution_count": 43,
   "id": "36665572",
   "metadata": {},
   "outputs": [
    {
     "data": {
      "text/plain": [
       "array(['화장실', '음수대', '주차장', '공중전화', '파고라', '미조성', '음식점', '전망대', '파고라 6개',\n",
       "       '정자 1개', '파고라 1개', '파고라 4개', '파고라1개', '음수전', '정자', '벤치', '전망데크',\n",
       "       '평의자 등', '음수대 등', '매점', '화장실 1개소', '약수터', '먹는물공동시설', '시계탑',\n",
       "       '간이화장실', '대중음식점', '다과점', '치유센터', '숲속요가장및 풍욕장', '낙상예방코스', '제1주차장',\n",
       "       '매점(기념품)', '휴게음식점', '공중화장실', '휴게음식점(푸드트럭)', '유스호스텔', '주차장1',\n",
       "       '화장실1', '(간이)화장실1', '주차장3', '화장실2', '주차장2', '화장실(발효식)1', '공중전화1',\n",
       "       '시계탑 1기', '주차장 2개소(80대)', '발효식화장실 4기', '음수대 1개소', '주차장 1개소(65대)',\n",
       "       '매점 2개소', '화장실 3개소', '음수대 4기', '발효식화장실 2기', '음수대 2개소', '관리사무소',\n",
       "       '문화회관', '케이블카 하부정류장', '화장실 등', '케이블카 상부정류장', '음수장', '주차장 1개소',\n",
       "       '음수대 1기', '음수대 2기', '공중전화 3기', '음수대 6기', '시계탑 2기', '음수대1기',\n",
       "       '샘터 3개소', '샘터 1개소', '파고라 1동'], dtype=object)"
      ]
     },
     "execution_count": 43,
     "metadata": {},
     "output_type": "execute_result"
    }
   ],
   "source": [
    "park_df['park_benefit_facility'].unique()"
   ]
  },
  {
   "cell_type": "code",
   "execution_count": 44,
   "id": "a6a9802b",
   "metadata": {},
   "outputs": [],
   "source": [
    "park_df['park_benefit_facility'] = park_df['park_benefit_facility'].apply(lambda x: '화장실' if '화장실' in x else x)\n",
    "park_df['park_benefit_facility'] = park_df['park_benefit_facility'].apply(lambda x: '음수대' if '음수' in x  or '먹는물' in x or '샘터' in x else x)\n",
    "park_df['park_benefit_facility'] = park_df['park_benefit_facility'].apply(lambda x: '파고라' if '파고라' in x else x)\n",
    "park_df['park_benefit_facility'] = park_df['park_benefit_facility'].apply(lambda x: '주차장' if '주차' in x else x)\n",
    "park_df['park_benefit_facility'] = park_df['park_benefit_facility'].apply(lambda x: '음식점' if '음식점' in x else x)\n",
    "park_df['park_benefit_facility'] = park_df['park_benefit_facility'].apply(lambda x: '전망대' if '전망' in x else x)\n",
    "park_df['park_benefit_facility'] = park_df['park_benefit_facility'].apply(lambda x: '매점' if '매점' in x  or '다과' in x else x)\n",
    "park_df['park_benefit_facility'] = park_df['park_benefit_facility'].apply(lambda x: '공중전화' if '공중전화' in x else x)\n",
    "park_df['park_benefit_facility'] = park_df['park_benefit_facility'].apply(lambda x: '화장실' if '화장실' in x else x)\n",
    "park_df['park_benefit_facility'] = park_df['park_benefit_facility'].apply(lambda x: '시계탑' if '시계' in x else x)\n",
    "park_df['park_benefit_facility'] = park_df['park_benefit_facility'].apply(lambda x: '케이블카 정류장' if '정류장' in x else x)\n",
    "park_df['park_benefit_facility'] = park_df['park_benefit_facility'].apply(lambda x: '벤치' if '평의자' in x else x)\n",
    "park_df['park_benefit_facility'] = park_df['park_benefit_facility'].apply(lambda x: '정자' if '정자' in x else x)"
   ]
  },
  {
   "cell_type": "code",
   "execution_count": 45,
   "id": "db53593a",
   "metadata": {},
   "outputs": [
    {
     "data": {
      "text/plain": [
       "array(['화장실', '음수대', '주차장', '공중전화', '파고라', '미조성', '음식점', '전망대', '정자',\n",
       "       '벤치', '매점', '약수터', '시계탑', '치유센터', '숲속요가장및 풍욕장', '낙상예방코스', '유스호스텔',\n",
       "       '관리사무소', '문화회관', '케이블카 정류장'], dtype=object)"
      ]
     },
     "execution_count": 45,
     "metadata": {},
     "output_type": "execute_result"
    }
   ],
   "source": [
    "park_df['park_benefit_facility'].unique()"
   ]
  },
  {
   "cell_type": "markdown",
   "id": "16485abc",
   "metadata": {},
   "source": [
    "## 문화시설 전처리"
   ]
  },
  {
   "cell_type": "code",
   "execution_count": 46,
   "id": "2a9c49a2",
   "metadata": {
    "scrolled": true
   },
   "outputs": [
    {
     "data": {
      "text/plain": [
       "array([nan, '문화회관', '무대', '청소년수련원', '홍릉수목원', '도서관', '독서실', '정보화도서관',\n",
       "       '야외공연장', '없음', '야외무대 장기바둑쉼터 놀이마당',\n",
       "       '\"도서관, 기념비, 충혼탑, 장건상동상, 대한해협전승비, 자연보호헌장, 시민헌장, 충무공이순신영묘비, 노인헌장비, 구덕민속예술관및놀이마당, 기념관, 광복기념관, 청소년수련시설, 최천택기념비, 민주공원표지석, 중앙공원 표지석, 6·25호국유공자기념비, 사적시설, 생태학습원\"',\n",
       "       '\"동물원시설, 어린이회관, 학생수련회야영장, 반공전시관, 전시관, 위인탑, 교육문화회관, 박재혁동상, 헌칠학병기념비, 이수현추모비, 어린이교통안전교육장, 부산항일학생의거기념비, 정상구시비, 고태국음악비, 금연테마동산, 상징조형물, 생태학습장, 숲체험학습센터, 소녀상, 6.25참전용사기념비, 100대 명수 기념비\"',\n",
       "       '\"해양자연사박물관, 도서관, 민속예술관, 고분, 기념비및사적, 소방안전체험관, 박물관, 어린이직업체험관\"',\n",
       "       '야외무대1', '기타4', '\"문화회관1, 야외음악당1\"', '기타1', '\"문화회관2, 야외음악당1, 기타3\"',\n",
       "       '도서관1', '기타23', '기타2', '\"도서관1, 금암기적비1\"', '\"동상1, 탑기념비2\"',\n",
       "       '야외음악당 1개소', '문화회관 1개소',\n",
       "       '\"독립관 1동, 3.1운동기념탑 1기, 순국선열추념탑 1기, 독립문 1기, 서재필동상 1기, 독립문이전비 1기, 정보도서관 1동\"',\n",
       "       '-', '충렬사', '구덕민속예술관', '미조성', '동상, 탑기념비', '도서관 1개소, 문화회관 1개소',\n",
       "       '도서관 1개소'], dtype=object)"
      ]
     },
     "execution_count": 46,
     "metadata": {},
     "output_type": "execute_result"
    }
   ],
   "source": [
    "park_df['park_cultural_facitiy'].unique()"
   ]
  },
  {
   "cell_type": "code",
   "execution_count": 47,
   "id": "ac8c1e74",
   "metadata": {},
   "outputs": [],
   "source": [
    "park_df['park_cultural_facitiy'] = park_df['park_cultural_facitiy'].replace('야외무대 장기바둑쉼터 놀이마당','야외무대,장기바둑쉼터,놀이마당')\n",
    "park_df['park_cultural_facitiy'] = park_df['park_cultural_facitiy'].replace('구덕민속예술관및놀이마당','구덕민속예술관,놀이마당')"
   ]
  },
  {
   "cell_type": "code",
   "execution_count": 48,
   "id": "ff3fe9f3",
   "metadata": {},
   "outputs": [],
   "source": [
    "park_df['park_cultural_facitiy'] = park_df['park_cultural_facitiy'].str.split(',', expand=True).stack().reset_index(level=1, drop=True).reset_index(drop=True)"
   ]
  },
  {
   "cell_type": "code",
   "execution_count": 49,
   "id": "89735f43",
   "metadata": {},
   "outputs": [],
   "source": [
    "park_df['park_cultural_facitiy'] = park_df['park_cultural_facitiy'].str.strip('\"').str.strip()"
   ]
  },
  {
   "cell_type": "code",
   "execution_count": 50,
   "id": "45dbfbc6",
   "metadata": {},
   "outputs": [],
   "source": [
    "park_df['park_cultural_facitiy'] = park_df['park_cultural_facitiy'].apply(replace_with_mijoseong)"
   ]
  },
  {
   "cell_type": "code",
   "execution_count": 51,
   "id": "a66ccd39",
   "metadata": {},
   "outputs": [
    {
     "data": {
      "text/plain": [
       "array(['문화회관', '무대', '청소년수련원', '홍릉수목원', '도서관', '독서실', '정보화도서관', '야외공연장',\n",
       "       '미조성', '야외무대', '장기바둑쉼터', '놀이마당', '기념비', '충혼탑', '장건상동상', '대한해협전승비',\n",
       "       '자연보호헌장', '시민헌장', '충무공이순신영묘비', '노인헌장비', '구덕민속예술관및놀이마당', '기념관',\n",
       "       '광복기념관', '청소년수련시설', '최천택기념비', '민주공원표지석', '중앙공원 표지석',\n",
       "       '6·25호국유공자기념비', '사적시설', '생태학습원', '동물원시설', '어린이회관', '학생수련회야영장',\n",
       "       '반공전시관', '전시관', '위인탑', '교육문화회관', '박재혁동상', '헌칠학병기념비', '이수현추모비',\n",
       "       '어린이교통안전교육장', '부산항일학생의거기념비', '정상구시비', '고태국음악비', '금연테마동산', '생태학습장',\n",
       "       '숲체험학습센터', '소녀상', '6.25참전용사기념비', '100대 명수 기념비', '해양자연사박물관',\n",
       "       '민속예술관', '고분', '기념비및사적', '소방안전체험관', '박물관', '어린이직업체험관', '야외무대1',\n",
       "       '기타4', '문화회관1', '야외음악당1', '기타1', '문화회관2', '기타3', '도서관1', '기타23',\n",
       "       '기타2', '금암기적비1', '동상1', '탑기념비2', '야외음악당 1개소', '문화회관 1개소', '독립관 1동',\n",
       "       '3.1운동기념탑 1기', '순국선열추념탑 1기', '독립문 1기', '서재필동상 1기', '독립문이전비 1기',\n",
       "       '정보도서관 1동', '충렬사', '구덕민속예술관', '동상', '탑기념비', '도서관 1개소'],\n",
       "      dtype=object)"
      ]
     },
     "execution_count": 51,
     "metadata": {},
     "output_type": "execute_result"
    }
   ],
   "source": [
    "park_df['park_cultural_facitiy'].unique()"
   ]
  },
  {
   "cell_type": "code",
   "execution_count": 52,
   "id": "8c0ffe93",
   "metadata": {},
   "outputs": [],
   "source": [
    "park_df['park_cultural_facitiy'] = park_df['park_cultural_facitiy'].apply(lambda x: '문화회관' if '회관' in x else x)\n",
    "park_df['park_cultural_facitiy'] = park_df['park_cultural_facitiy'].apply(lambda x: '도서관' if '도서관' in x else x)\n",
    "park_df['park_cultural_facitiy'] = park_df['park_cultural_facitiy'].apply(lambda x: '무대' if '무대' in x or '공연' in x  else x)\n",
    "park_df['park_cultural_facitiy'] = park_df['park_cultural_facitiy'].apply(lambda x: '동상' if '동상' in x or '소녀' in x else x)\n",
    "park_df['park_cultural_facitiy'] = park_df['park_cultural_facitiy'].apply(lambda x: '독서실' if '독서' in x else x)\n",
    "park_df['park_cultural_facitiy'] = park_df['park_cultural_facitiy'].apply(lambda x: '기념비' if '전승비' in x or '영묘비' in x or '헌장비' in x or '기념비' in x or '추모비' in x or '시비' in x or '음악비' in x or '기적비' in x or '이전비' in x else x)\n",
    "park_df['park_cultural_facitiy'] = park_df['park_cultural_facitiy'].apply(lambda x: '예술관' if '예술관' in x else x)\n",
    "park_df['park_cultural_facitiy'] = park_df['park_cultural_facitiy'].apply(lambda x: '청소년수련원' if '청소년' in x or '수련' in x else x)\n",
    "park_df['park_cultural_facitiy'] = park_df['park_cultural_facitiy'].apply(lambda x: '기념탑' if '탑' in x else x)\n",
    "park_df['park_cultural_facitiy'] = park_df['park_cultural_facitiy'].apply(lambda x: '기념관' if '기념관' in x else x)\n",
    "park_df['park_cultural_facitiy'] = park_df['park_cultural_facitiy'].apply(lambda x: '표지석' if '표지석' in x else x)\n",
    "park_df['park_cultural_facitiy'] = park_df['park_cultural_facitiy'].apply(lambda x: '전시관' if '전시관' in x else x)\n",
    "park_df['park_cultural_facitiy'] = park_df['park_cultural_facitiy'].apply(lambda x: '생태학습원' if '학습' in x else x)\n",
    "park_df['park_cultural_facitiy'] = park_df['park_cultural_facitiy'].apply(lambda x: '기타' if '기타' in x else x)\n",
    "park_df['park_cultural_facitiy'] = park_df['park_cultural_facitiy'].apply(lambda x: '독립관' if '독립관' in x else x)\n",
    "park_df['park_cultural_facitiy'] = park_df['park_cultural_facitiy'].apply(lambda x: '독립문' if '독립문 1기' in x else x)\n",
    "park_df['park_cultural_facitiy'] = park_df['park_cultural_facitiy'].apply(lambda x: '야외음악당' if '야외음악당' in x else x)\n",
    "park_df['park_cultural_facitiy'] = park_df['park_cultural_facitiy'].apply(lambda x: '박물관' if '박물관' in x else x)"
   ]
  },
  {
   "cell_type": "code",
   "execution_count": 53,
   "id": "28a685f2",
   "metadata": {},
   "outputs": [
    {
     "data": {
      "text/plain": [
       "array(['문화회관', '무대', '청소년수련원', '홍릉수목원', '도서관', '독서실', '미조성', '장기바둑쉼터',\n",
       "       '놀이마당', '기념비', '기념탑', '동상', '자연보호헌장', '시민헌장', '예술관', '기념관', '표지석',\n",
       "       '사적시설', '생태학습원', '동물원시설', '전시관', '어린이교통안전교육장', '금연테마동산', '박물관',\n",
       "       '고분', '소방안전체험관', '어린이직업체험관', '기타', '야외음악당', '독립관', '독립문', '충렬사'],\n",
       "      dtype=object)"
      ]
     },
     "execution_count": 53,
     "metadata": {},
     "output_type": "execute_result"
    }
   ],
   "source": [
    "park_df['park_cultural_facitiy'].unique()"
   ]
  },
  {
   "cell_type": "markdown",
   "id": "277ab89b",
   "metadata": {},
   "source": [
    "## 기타시설 전처리"
   ]
  },
  {
   "cell_type": "code",
   "execution_count": 54,
   "id": "6445314b",
   "metadata": {
    "scrolled": true
   },
   "outputs": [
    {
     "data": {
      "text/plain": [
       "array([nan, '벤치 등', '파고라 및 체력단련시설 등', '파고라 및 벤치 등', '체력단련시설 및 벤치 등',\n",
       "       '\"세미나실, 공연장\"', '야외 공연장', '\"상록경로당,CCTV\"', 'CCTV', '\"매봉경로당,CCTV\"',\n",
       "       '화장실', '경로당', '다목적광장', '\"바닥분수, 계류\"', '벽천',\n",
       "       '\"황톳길,무장애길,야생화단지,유아숲체험장\"', '\"환경자원센터,바닥분수,계류\"', '계류', '연못',\n",
       "       '\"연못, 분수\"', '없음', '바닥분수', '유아숲체험원', '유아숲체험장', '관리사무소',\n",
       "       '\"관리사무소, 캠핑장\"',\n",
       "       '\"도로, 광장, 파고라, 못, 생태연못, 야영장, 음수대, 휴게소, 야유회장, 전망쉼터, 물놀이터, 산림욕장, 관리사무소, 소각장, 표지판, 조명등, 쓰레기통, 창고\"',\n",
       "       '\"경로당, 야영장, 힐링데크, 트리하우스, 스카이워크, 산림욕장, 관리사무소, 안내소, 통합건물\"',\n",
       "       '\"도로, 광장, 못, 케스케이드, 미로공원, 녹차체험장, 암석원, 야영장, 힐링캠프, 산림욕장, 관리사무소\"',\n",
       "       '관리사무소1', '관리사무소2', '관리사무소3',\n",
       "       '\"앉음벽13.57m, 트렐리스3, 안내판2, 플랜트2, 파고라, 평의자4\"',\n",
       "       '\"파고라1, 앉음벽8m, 수도1, 안내판, 솟대5, 평의자2\"',\n",
       "       '\"육각정자1, 원형의자4, 평의자12, 평상2, 파고라2, 족구장(28*35M)\"',\n",
       "       '\"앉음벽7m, 바닥분수1, 파고라2, 목제데크148㎡, 도막포장78㎡, 수증등12, 양잔디1, 등의자6, 평의자6\"',\n",
       "       '\"바닥분수1, 앉음벽72.6m, 공원등15, 도막포장253.5㎡, 수증등12, 파고라1, 양잔디1, 평의자7\"',\n",
       "       '\"파고라1, 평의자6\"', '\"막구조파고라3, 사각정자1, 등의자5, 열주, 놀이벽\"', '\"등의자9, 파고라1\"',\n",
       "       '\"안내판, 태양광볼라드30, 파고라1, 등의자2, 평의자5, 평상1\"', '\"파고라1, 돌의자9\"',\n",
       "       '\"안내판, 목계단, 파고라1, 원형의자1, 평의자7\"', '\"안내판, 볼라드7, 파고라1, 평의자7\"',\n",
       "       '\"안내판, 목계단, 파고라1, 원형의자1, 평의자6\"',\n",
       "       '\"데크, 막구조파고라3, 등의자4, 앉음벽35m, 돌의자6, 돌탁자2, 열주4\"',\n",
       "       '\"바닥분수, 다목적운동장, 볼라드62, 안내판4, 안내석, 야외석물탁자5, 통돌벤치20, 앉음벽139m, 돌담150m, 장대석의자12, 상징게이트4, 장식열주6, 자연석계단2, 팔각정자, 파고라16, 평의자48, 등의자50, 둥근의자28\"',\n",
       "       '\"이층정자1, 철새탐조대1, 등의자2\"',\n",
       "       '\"그늘시렁5, 등의자31, 볼라드10, 다목적운동장, 농구장, 문주4, 안내판2, 공원등45, 준공기념비1, 육각정자2, 사각정자2, 파고라4, 축구골대2, 농구골대2, 자전거보관대1, 음수대1, 관리사무소\"',\n",
       "       '\"그늘시렁4, 평의자9, 등의자33, 농구골대2, 다목적운동장, 문주4, 안내판2, 볼라드9, 앉음벽40m, 공원등30, 야외무대전시벽10, 음수대1, 파고라4, 육각정자1, 자전거보관대1, 관리사무소\"',\n",
       "       '\"가벽, 스탠드, 파고라2, 앉음벽38.8m, 사각의자2, 안내판\"',\n",
       "       '\"파고라1, 등의자6, 사각의자2, 안내판\"',\n",
       "       '\"다목적운동장, 팔각정자1, 안내판2, 파고라2, 조각상, 앉음벽227.4m, 음수대1, 등의자56, 돌의자8, 돌탁자3, 평의자65, 그늘시렁8, 볼라드20, 인조축구장\"',\n",
       "       '\"파고라5, 등의자4, 평의자15, 연식의자77.5m, 통석의자3m, 농구대, 장식가벽5, 관람데크, 안내판, 관리창고\"',\n",
       "       '\"전시벽6, 상징조형물, 파고라, 야외무대62.1㎡, 평의자3, 등의자6, 연식의자16, 안내판, 게이트볼장\"',\n",
       "       '\"등의자4, 연식의자42.3m, 농구대, 안내판, 공원등4\"',\n",
       "       '\"등의자8, 정자, 연식의자, 트렐리스, 공원등7\"',\n",
       "       '\"정자, 파고라, 배드민턴장, 지압로, 등의자4, 평의자3, 사각의자2, 앉음벽46.22m, 목제계단3, 휴지통2\"',\n",
       "       '\"파고라, 육각정자, 등의자, 평의자\"',\n",
       "       '\"파고라, 원형파고라, 평의자, 등의자, 앉음벽, 야외테이블, 수경시설, 자전거보관대\"',\n",
       "       '\"파고라, 평의자, 등의자, 앉음벽, 자전거보관대\"',\n",
       "       '\"자전거보관대, 파고라, 오두막, 오두막벤치, 평의자, 등의자, 앉음벽, 야외테이블\"',\n",
       "       '\"파고라, 팔각정자, 평의자, 등의자, 앉음벽, 야외테이블, 자전거보관대\"',\n",
       "       '\"원형파고라, 앉음벽, 등의자, 자전거보관대\"', '\"파고라, 앉음벽, 등의자, 자전거보관대\"',\n",
       "       '\"원형파고라, 앉음벽, 등의자\"', '\"파고라, 앉음벽, 등의자, 평의자, 야외테이블, 자전거보관대\"',\n",
       "       '\"꽃그늘파고라, 앉음벽, 등의자, 자전거보관대\"', '\"등의자, 사면플랜터\"', '등산로 및 각종시설',\n",
       "       '박물관, 문화재시설', '문화재시설', '\"인공폭포, 음악분수, 바닥분수 등\"', '광장 등', '미조성',\n",
       "       '\"입구광장, 관리사무실 등\"', '파고라 외 9종 27점', '파고라 외 10종 15점', '파고라 외 9종 19점',\n",
       "       '파고라 외 10종 22점', '파고라 외 5종 18점', '파고라 외 5종 23점', '파고라 외 6종 46점',\n",
       "       '파고라 외 12종 24점', '파고라 외 19종 47점', '파고라 외 7종 19점', '등의자 외 8종 12점',\n",
       "       '파고라 외 17종 36점', '파고라 외 15종 40점', '파고라 외 10종 24점', '파고라 외 9종 24점',\n",
       "       '연식의자 외 2종 3점', '등의자 외 1종 3점', '파고라 외 11종 35점', '평의자 외 9종 21점',\n",
       "       '파고라 외 4종 16점', '파고라 외 4종 14점', '파고라 외 8점 12점', '파고라 외 9종 84점',\n",
       "       '평의자 외 2종 12점', '파고라 외 4종 7점'], dtype=object)"
      ]
     },
     "execution_count": 54,
     "metadata": {},
     "output_type": "execute_result"
    }
   ],
   "source": [
    "park_df['park_facility_other'].unique()"
   ]
  },
  {
   "cell_type": "code",
   "execution_count": null,
   "id": "425e2b08",
   "metadata": {},
   "outputs": [],
   "source": []
  },
  {
   "cell_type": "code",
   "execution_count": 55,
   "id": "60e11d50",
   "metadata": {},
   "outputs": [],
   "source": [
    "park_df['park_facility_other'] = park_df['park_facility_other'].str.split(',', expand=True).stack().reset_index(level=1, drop=True).reset_index(drop=True)"
   ]
  },
  {
   "cell_type": "code",
   "execution_count": 56,
   "id": "fc2da072",
   "metadata": {},
   "outputs": [],
   "source": [
    "park_df['park_facility_other'] = park_df['park_facility_other'].str.strip('\"').str.strip()"
   ]
  },
  {
   "cell_type": "code",
   "execution_count": 57,
   "id": "e642223a",
   "metadata": {},
   "outputs": [],
   "source": [
    "park_df['park_facility_other'] = park_df['park_facility_other'].apply(replace_with_mijoseong)"
   ]
  },
  {
   "cell_type": "code",
   "execution_count": 58,
   "id": "61ae8ecb",
   "metadata": {},
   "outputs": [
    {
     "data": {
      "text/plain": [
       "array(['벤치 등', '파고라 및 체력단련시설 등', '파고라 및 벤치 등', '체력단련시설 및 벤치 등', '세미나실',\n",
       "       '공연장', '야외 공연장', '상록경로당', 'CCTV', '매봉경로당', '화장실', '경로당', '다목적광장',\n",
       "       '바닥분수', '계류', '벽천', '황톳길', '무장애길', '야생화단지', '유아숲체험장', '환경자원센터',\n",
       "       '연못', '분수', '미조성', '유아숲체험원', '관리사무소', '캠핑장', '도로', '광장', '파고라',\n",
       "       '못', '생태연못', '야영장', '음수대', '휴게소', '야유회장', '전망쉼터', '물놀이터', '산림욕장',\n",
       "       '소각장', '표지판', '쓰레기통', '창고', '힐링데크', '트리하우스', '스카이워크', '안내소',\n",
       "       '통합건물', '케스케이드', '미로공원', '녹차체험장', '암석원', '힐링캠프', '관리사무소1',\n",
       "       '관리사무소2', '관리사무소3', '앉음벽13.57m', '트렐리스3', '안내판2', '플랜트2', '평의자4',\n",
       "       '파고라1', '앉음벽8m', '수도1', '안내판', '솟대5', '평의자2', '육각정자1', '원형의자4',\n",
       "       '평의자12', '평상2', '파고라2', '족구장(28*35M)', '앉음벽7m', '바닥분수1',\n",
       "       '목제데크148㎡', '도막포장78㎡', '수증등12', '양잔디1', '등의자6', '평의자6', '앉음벽72.6m',\n",
       "       '공원등15', '도막포장253.5㎡', '평의자7', '사각정자1', '등의자5', '열주', '놀이벽',\n",
       "       '등의자9', '태양광볼라드30', '등의자2', '평의자5', '평상1', '돌의자9', '목계단', '원형의자1',\n",
       "       '볼라드7', '데크', '등의자4', '앉음벽35m', '돌의자6', '돌탁자2', '열주4', '다목적운동장',\n",
       "       '볼라드62', '안내판4', '안내석', '야외석물탁자5', '통돌벤치20', '앉음벽139m', '돌담150m',\n",
       "       '장대석의자12', '상징게이트4', '장식열주6', '자연석계단2', '팔각정자', '파고라16', '평의자48',\n",
       "       '등의자50', '둥근의자28', '이층정자1', '그늘시렁5', '등의자31', '볼라드10', '농구장',\n",
       "       '문주4', '공원등45', '준공기념비1', '육각정자2', '사각정자2', '파고라4', '축구골대2',\n",
       "       '농구골대2', '자전거보관대1', '음수대1', '그늘시렁4', '평의자9', '등의자33', '볼라드9',\n",
       "       '앉음벽40m', '공원등30', '야외무대전시벽10', '가벽', '스탠드', '앉음벽38.8m', '사각의자2',\n",
       "       '팔각정자1', '앉음벽227.4m', '등의자56', '돌의자8', '돌탁자3', '평의자65', '그늘시렁8',\n",
       "       '볼라드20', '파고라5', '평의자15', '연식의자77.5m', '통석의자3m', '농구대', '장식가벽5',\n",
       "       '관람데크', '관리창고', '전시벽6', '야외무대62.1㎡', '평의자3', '연식의자16', '게이트볼장',\n",
       "       '연식의자42.3m', '공원등4', '등의자8', '정자', '연식의자', '트렐리스', '공원등7', '배드민턴장',\n",
       "       '지압로', '앉음벽46.22m', '목제계단3', '휴지통2', '육각정자', '등의자', '평의자', '원형파고라',\n",
       "       '앉음벽', '야외테이블', '수경시설', '자전거보관대', '오두막', '오두막벤치', '꽃그늘파고라',\n",
       "       '사면플랜터', '등산로 및 각종시설', '박물관', '문화재시설', '인공폭포', '음악분수', '바닥분수 등',\n",
       "       '광장 등', '입구광장', '관리사무실 등', '파고라 외 9종 27점', '파고라 외 10종 15점',\n",
       "       '파고라 외 9종 19점', '파고라 외 10종 22점', '파고라 외 5종 18점', '파고라 외 5종 23점',\n",
       "       '파고라 외 6종 46점', '파고라 외 12종 24점', '파고라 외 19종 47점', '파고라 외 7종 19점',\n",
       "       '등의자 외 8종 12점', '파고라 외 17종 36점', '파고라 외 15종 40점', '파고라 외 10종 24점',\n",
       "       '파고라 외 9종 24점', '연식의자 외 2종 3점', '등의자 외 1종 3점', '파고라 외 11종 35점',\n",
       "       '평의자 외 9종 21점', '파고라 외 4종 16점', '파고라 외 4종 14점', '파고라 외 8점 12점',\n",
       "       '파고라 외 9종 84점', '평의자 외 2종 12점', '파고라 외 4종 7점'], dtype=object)"
      ]
     },
     "execution_count": 58,
     "metadata": {},
     "output_type": "execute_result"
    }
   ],
   "source": [
    "park_df['park_facility_other'].unique()"
   ]
  },
  {
   "cell_type": "code",
   "execution_count": 59,
   "id": "b6bad279",
   "metadata": {},
   "outputs": [],
   "source": [
    "park_df['park_facility_other'] = park_df['park_facility_other'].apply(remove_numbers_from_string)"
   ]
  },
  {
   "cell_type": "code",
   "execution_count": 60,
   "id": "892dcd35",
   "metadata": {},
   "outputs": [
    {
     "data": {
      "text/plain": [
       "array(['벤치 등', '파고라 및 체력단련시설 등', '파고라 및 벤치 등', '체력단련시설 및 벤치 등', '세미나실',\n",
       "       '공연장', '야외 공연장', '상록경로당', 'CCTV', '매봉경로당', '화장실', '경로당', '다목적광장',\n",
       "       '바닥분수', '계류', '벽천', '황톳길', '무장애길', '야생화단지', '유아숲체험장', '환경자원센터',\n",
       "       '연못', '분수', '미조성', '유아숲체험원', '관리사무소', '캠핑장', '도로', '광장', '파고라',\n",
       "       '못', '생태연못', '야영장', '음수대', '휴게소', '야유회장', '전망쉼터', '물놀이터', '산림욕장',\n",
       "       '소각장', '표지판', '쓰레기통', '창고', '힐링데크', '트리하우스', '스카이워크', '안내소',\n",
       "       '통합건물', '케스케이드', '미로공원', '녹차체험장', '암석원', '힐링캠프', '앉음벽', '트렐리스',\n",
       "       '안내판', '플랜트', '평의자', '수도', '솟대', '육각정자', '원형의자', '평상', '족구장(',\n",
       "       '목제데크', '도막포장', '수증등', '양잔디', '등의자', '공원등', '사각정자', '열주', '놀이벽',\n",
       "       '태양광볼라드', '돌의자', '목계단', '볼라드', '데크', '돌탁자', '다목적운동장', '안내석',\n",
       "       '야외석물탁자', '통돌벤치', '돌담', '장대석의자', '상징게이트', '장식열주', '자연석계단', '팔각정자',\n",
       "       '둥근의자', '이층정자', '그늘시렁', '농구장', '문주', '준공기념비', '축구골대', '농구골대',\n",
       "       '자전거보관대', '야외무대전시벽', '가벽', '스탠드', '사각의자', '연식의자', '통석의자', '농구대',\n",
       "       '장식가벽', '관람데크', '관리창고', '전시벽', '야외무대', '게이트볼장', '정자', '배드민턴장',\n",
       "       '지압로', '목제계단', '휴지통', '원형파고라', '야외테이블', '수경시설', '오두막', '오두막벤치',\n",
       "       '꽃그늘파고라', '사면플랜터', '등산로 및 각종시설', '박물관', '문화재시설', '인공폭포', '음악분수',\n",
       "       '바닥분수 등', '광장 등', '입구광장', '관리사무실 등', '파고라 외', '등의자 외', '연식의자 외',\n",
       "       '평의자 외'], dtype=object)"
      ]
     },
     "execution_count": 60,
     "metadata": {},
     "output_type": "execute_result"
    }
   ],
   "source": [
    "park_df['park_facility_other'].unique()"
   ]
  },
  {
   "cell_type": "code",
   "execution_count": 61,
   "id": "176bba86",
   "metadata": {},
   "outputs": [],
   "source": [
    "# 문자열을 '및' 또는 '등'을 기준으로 나누는 함수 정의\n",
    "def split_facility(facility):\n",
    "    return [item.strip() for item in re.split(' 및 | 등', facility) if item.strip()]"
   ]
  },
  {
   "cell_type": "code",
   "execution_count": 62,
   "id": "53050fbc",
   "metadata": {},
   "outputs": [],
   "source": [
    "park_df['park_facility_other'] = park_df['park_facility_other'].apply(split_facility)\n",
    "park_df = park_df.explode('park_facility_other').reset_index(drop=True)"
   ]
  },
  {
   "cell_type": "code",
   "execution_count": 63,
   "id": "16bd29e4",
   "metadata": {},
   "outputs": [
    {
     "data": {
      "text/plain": [
       "array(['벤치', '파고라', '체력단련시설', '세미나실', '공연장', '야외 공연장', '상록경로당', 'CCTV',\n",
       "       '매봉경로당', '화장실', '경로당', '다목적광장', '바닥분수', '계류', '벽천', '황톳길', '무장애길',\n",
       "       '야생화단지', '유아숲체험장', '환경자원센터', '연못', '분수', '미조성', '유아숲체험원', '관리사무소',\n",
       "       '캠핑장', '도로', '광장', '못', '생태연못', '야영장', '음수대', '휴게소', '야유회장',\n",
       "       '전망쉼터', '물놀이터', '산림욕장', '소각장', '표지판', '쓰레기통', '창고', '힐링데크',\n",
       "       '트리하우스', '스카이워크', '안내소', '통합건물', '케스케이드', '미로공원', '녹차체험장', '암석원',\n",
       "       '힐링캠프', '앉음벽', '트렐리스', '안내판', '플랜트', '평의자', '수도', '솟대', '육각정자',\n",
       "       '원형의자', '평상', '족구장(', '목제데크', '도막포장', '수증등', '양잔디', '등의자', '공원등',\n",
       "       '사각정자', '열주', '놀이벽', '태양광볼라드', '돌의자', '목계단', '볼라드', '데크', '돌탁자',\n",
       "       '다목적운동장', '안내석', '야외석물탁자', '통돌벤치', '돌담', '장대석의자', '상징게이트', '장식열주',\n",
       "       '자연석계단', '팔각정자', '둥근의자', '이층정자', '그늘시렁', '농구장', '문주', '준공기념비',\n",
       "       '축구골대', '농구골대', '자전거보관대', '야외무대전시벽', '가벽', '스탠드', '사각의자', '연식의자',\n",
       "       '통석의자', '농구대', '장식가벽', '관람데크', '관리창고', '전시벽', '야외무대', '게이트볼장',\n",
       "       '정자', '배드민턴장', '지압로', '목제계단', '휴지통', '원형파고라', '야외테이블', '수경시설',\n",
       "       '오두막', '오두막벤치', '꽃그늘파고라', '사면플랜터', '등산로', '각종시설', '박물관', '문화재시설',\n",
       "       '인공폭포', '음악분수', '입구광장', '관리사무실', '파고라 외', '등의자 외', '연식의자 외',\n",
       "       '평의자 외'], dtype=object)"
      ]
     },
     "execution_count": 63,
     "metadata": {},
     "output_type": "execute_result"
    }
   ],
   "source": [
    "park_df['park_facility_other'].unique()"
   ]
  },
  {
   "cell_type": "code",
   "execution_count": 64,
   "id": "3f499e6a",
   "metadata": {},
   "outputs": [],
   "source": [
    "park_df['park_facility_other'] = park_df['park_facility_other'].apply(lambda x: '경로당' if '경로당' in x else x)\n",
    "park_df['park_facility_other'] = park_df['park_facility_other'].apply(lambda x: '연못' if '연못' in x or '못' in x else x)\n",
    "park_df['park_facility_other'] = park_df['park_facility_other'].apply(lambda x: '데크' if '데크' in x else x)\n",
    "park_df['park_facility_other'] = park_df['park_facility_other'].apply(lambda x: '족구장' if '족구장' in x else x)\n",
    "park_df['park_facility_other'] = park_df['park_facility_other'].apply(lambda x: '정자' if '정자' in x else x)\n",
    "park_df['park_facility_other'] = park_df['park_facility_other'].apply(lambda x: '쓰레기통' if '휴지통' in x else x)\n",
    "park_df['park_facility_other'] = park_df['park_facility_other'].apply(lambda x: '파고라' if '파고라' in x else x)\n",
    "park_df['park_facility_other'] = park_df['park_facility_other'].apply(lambda x: '벤치' if '벤치' in x or '의자' in x else x)\n",
    "park_df['park_facility_other'] = park_df['park_facility_other'].apply(lambda x: '플랜트' if '사면' in x else x)\n",
    "park_df['park_facility_other'] = park_df['park_facility_other'].apply(lambda x: '관리사무소' if '관리사무' in x else x)\n",
    "park_df['park_facility_other'] = park_df['park_facility_other'].apply(lambda x: '열주' if '열주' in x else x)\n",
    "park_df['park_facility_other'] = park_df['park_facility_other'].apply(lambda x: '계단' if '계단' in x else x)\n",
    "park_df['park_facility_other'] = park_df['park_facility_other'].apply(lambda x: '농구장' if '농구' in x else x)\n",
    "park_df['park_facility_other'] = park_df['park_facility_other'].apply(lambda x: '축구장' if '축구' in x else x)\n",
    "park_df['park_facility_other'] = park_df['park_facility_other'].apply(lambda x: '광장' if '광장' in x else x)\n",
    "park_df['park_facility_other'] = park_df['park_facility_other'].apply(lambda x: '공연장' if '공연' in x else x)\n",
    "park_df['park_facility_other'] = park_df['park_facility_other'].apply(lambda x: '가벽' if '가벽' in x else x)\n",
    "park_df['park_facility_other'] = park_df['park_facility_other'].apply(lambda x: '전시벽' if '전시벽' in x else x)\n",
    "park_df['park_facility_other'] = park_df['park_facility_other'].apply(lambda x: '창고' if '창고' in x else x)\n",
    "park_df['park_facility_other'] = park_df['park_facility_other'].apply(lambda x: '볼라드' if '볼라드' in x else x)\n",
    "park_df['park_facility_other'] = park_df['park_facility_other'].apply(lambda x: '공연장' if '야외무대' in x else x)"
   ]
  },
  {
   "cell_type": "code",
   "execution_count": 65,
   "id": "d50502ef",
   "metadata": {},
   "outputs": [
    {
     "data": {
      "text/plain": [
       "array(['벤치', '파고라', '체력단련시설', '세미나실', '공연장', '경로당', 'CCTV', '화장실', '광장',\n",
       "       '바닥분수', '계류', '벽천', '황톳길', '무장애길', '야생화단지', '유아숲체험장', '환경자원센터',\n",
       "       '연못', '분수', '미조성', '유아숲체험원', '관리사무소', '캠핑장', '도로', '야영장', '음수대',\n",
       "       '휴게소', '야유회장', '전망쉼터', '물놀이터', '산림욕장', '소각장', '표지판', '쓰레기통', '창고',\n",
       "       '데크', '트리하우스', '스카이워크', '안내소', '통합건물', '케스케이드', '미로공원', '녹차체험장',\n",
       "       '암석원', '힐링캠프', '앉음벽', '트렐리스', '안내판', '플랜트', '수도', '솟대', '정자', '평상',\n",
       "       '족구장', '도막포장', '수증등', '양잔디', '공원등', '열주', '놀이벽', '볼라드', '계단',\n",
       "       '돌탁자', '다목적운동장', '안내석', '야외석물탁자', '돌담', '상징게이트', '그늘시렁', '농구장',\n",
       "       '문주', '준공기념비', '축구장', '자전거보관대', '전시벽', '가벽', '스탠드', '게이트볼장',\n",
       "       '배드민턴장', '지압로', '야외테이블', '수경시설', '오두막', '등산로', '각종시설', '박물관',\n",
       "       '문화재시설', '인공폭포', '음악분수'], dtype=object)"
      ]
     },
     "execution_count": 65,
     "metadata": {},
     "output_type": "execute_result"
    }
   ],
   "source": [
    "park_df['park_facility_other'].unique()"
   ]
  },
  {
   "cell_type": "markdown",
   "id": "91caa3a8",
   "metadata": {},
   "source": [
    "## 구 결측치 전처리"
   ]
  },
  {
   "cell_type": "code",
   "execution_count": 66,
   "id": "b5115eab",
   "metadata": {},
   "outputs": [
    {
     "name": "stdout",
     "output_type": "stream",
     "text": [
      "<class 'pandas.core.frame.DataFrame'>\n",
      "RangeIndex: 1380 entries, 0 to 1379\n",
      "Data columns (total 11 columns):\n",
      " #   Column                       Non-Null Count  Dtype  \n",
      "---  ------                       --------------  -----  \n",
      " 0   city                         1380 non-null   object \n",
      " 1   gu                           1377 non-null   object \n",
      " 2   dong                         1380 non-null   object \n",
      " 3   park_name                    1380 non-null   object \n",
      " 4   park_type                    1380 non-null   object \n",
      " 5   park_area                    1380 non-null   float64\n",
      " 6   park_exercise_facility       1380 non-null   object \n",
      " 7   park_entertainment_facility  1380 non-null   object \n",
      " 8   park_benefit_facility        1380 non-null   object \n",
      " 9   park_cultural_facitiy        1380 non-null   object \n",
      " 10  park_facility_other          1380 non-null   object \n",
      "dtypes: float64(1), object(10)\n",
      "memory usage: 118.7+ KB\n"
     ]
    }
   ],
   "source": [
    "park_df.info()"
   ]
  },
  {
   "cell_type": "code",
   "execution_count": 67,
   "id": "415ecfba",
   "metadata": {},
   "outputs": [
    {
     "data": {
      "text/plain": [
       "array(['남구', '연제구', '부산진구', '북구', '중구', '영도구', '금정구', '동구', '해운대구', nan,\n",
       "       '강서구', '동래구', '서구', '사하구', '수영구', '사상구'], dtype=object)"
      ]
     },
     "execution_count": 67,
     "metadata": {},
     "output_type": "execute_result"
    }
   ],
   "source": [
    "park_df[park_df['city'] == '부산광역시']['gu'].unique()"
   ]
  },
  {
   "cell_type": "code",
   "execution_count": 68,
   "id": "ea5a4b7d",
   "metadata": {},
   "outputs": [],
   "source": [
    "park_df.loc[(park_df['gu'].isna()) & (park_df['dong'] == '영주동'), 'gu'] = '중구'\n",
    "park_df.loc[(park_df['gu'].isna()) & (park_df['dong'] == '초읍동'), 'gu'] = '부산진구'\n",
    "park_df.loc[(park_df['gu'].isna()) & (park_df['dong'] == '온천동'), 'gu'] = '동래구'"
   ]
  },
  {
   "cell_type": "code",
   "execution_count": 69,
   "id": "f3faee15",
   "metadata": {},
   "outputs": [
    {
     "name": "stdout",
     "output_type": "stream",
     "text": [
      "<class 'pandas.core.frame.DataFrame'>\n",
      "RangeIndex: 1380 entries, 0 to 1379\n",
      "Data columns (total 11 columns):\n",
      " #   Column                       Non-Null Count  Dtype  \n",
      "---  ------                       --------------  -----  \n",
      " 0   city                         1380 non-null   object \n",
      " 1   gu                           1380 non-null   object \n",
      " 2   dong                         1380 non-null   object \n",
      " 3   park_name                    1380 non-null   object \n",
      " 4   park_type                    1380 non-null   object \n",
      " 5   park_area                    1380 non-null   float64\n",
      " 6   park_exercise_facility       1380 non-null   object \n",
      " 7   park_entertainment_facility  1380 non-null   object \n",
      " 8   park_benefit_facility        1380 non-null   object \n",
      " 9   park_cultural_facitiy        1380 non-null   object \n",
      " 10  park_facility_other          1380 non-null   object \n",
      "dtypes: float64(1), object(10)\n",
      "memory usage: 118.7+ KB\n"
     ]
    }
   ],
   "source": [
    "park_df.info()"
   ]
  },
  {
   "cell_type": "code",
   "execution_count": 70,
   "id": "99f7aff6",
   "metadata": {},
   "outputs": [
    {
     "data": {
      "text/plain": [
       "array(['대연공원', '당곡공원', '대일어린이공원', ..., '봉화대근린공원', '푸른수목원', '오류동역문화공원'],\n",
       "      dtype=object)"
      ]
     },
     "execution_count": 70,
     "metadata": {},
     "output_type": "execute_result"
    }
   ],
   "source": [
    "park_df['park_name'].unique()"
   ]
  },
  {
   "cell_type": "code",
   "execution_count": 74,
   "id": "a22cfcff",
   "metadata": {},
   "outputs": [
    {
     "data": {
      "text/plain": [
       "array(['벤치', '파고라', '체력단련시설', '세미나실', '공연장', '경로당', 'CCTV', '화장실', '광장',\n",
       "       '바닥분수', '계류', '벽천', '황톳길', '무장애길', '야생화단지', '유아숲체험장', '환경자원센터',\n",
       "       '연못', '분수', '미조성', '유아숲체험원', '관리사무소', '캠핑장', '도로', '야영장', '음수대',\n",
       "       '휴게소', '야유회장', '전망쉼터', '물놀이터', '산림욕장', '소각장', '표지판', '쓰레기통', '창고',\n",
       "       '데크', '트리하우스', '스카이워크', '안내소', '통합건물', '케스케이드', '미로공원', '녹차체험장',\n",
       "       '암석원', '힐링캠프', '앉음벽', '트렐리스', '안내판', '플랜트', '수도', '솟대', '정자', '평상',\n",
       "       '족구장', '도막포장', '수증등', '양잔디', '공원등', '열주', '놀이벽', '볼라드', '계단',\n",
       "       '돌탁자', '다목적운동장', '안내석', '야외석물탁자', '돌담', '상징게이트', '그늘시렁', '농구장',\n",
       "       '문주', '준공기념비', '축구장', '자전거보관대', '전시벽', '가벽', '스탠드', '게이트볼장',\n",
       "       '배드민턴장', '지압로', '야외테이블', '수경시설', '오두막', '등산로', '각종시설', '박물관',\n",
       "       '문화재시설', '인공폭포', '음악분수'], dtype=object)"
      ]
     },
     "execution_count": 74,
     "metadata": {},
     "output_type": "execute_result"
    }
   ],
   "source": [
    "park_df['park_facility_other'].unique()"
   ]
  },
  {
   "cell_type": "code",
   "execution_count": 75,
   "id": "350a56b5",
   "metadata": {},
   "outputs": [
    {
     "data": {
      "text/plain": [
       "array(['화장실', '음수대', '주차장', '공중전화', '파고라', '미조성', '음식점', '전망대', '정자',\n",
       "       '벤치', '매점', '약수터', '시계탑', '치유센터', '숲속요가장및 풍욕장', '낙상예방코스', '유스호스텔',\n",
       "       '관리사무소', '문화회관', '케이블카 정류장'], dtype=object)"
      ]
     },
     "execution_count": 75,
     "metadata": {},
     "output_type": "execute_result"
    }
   ],
   "source": [
    "park_df['park_benefit_facility'].unique()"
   ]
  },
  {
   "cell_type": "code",
   "execution_count": 85,
   "id": "58cec3c3",
   "metadata": {},
   "outputs": [
    {
     "name": "stdout",
     "output_type": "stream",
     "text": [
      "편익시설: {'미조성'}\n",
      "운동시설: {'미조성'}\n",
      "문화시설: {'미조성'}\n",
      "유흥시설: {'미조성'}\n"
     ]
    }
   ],
   "source": [
    "unique_park_facility_other = park_df['park_facility_other'].unique()\n",
    "unique_park_exercise_facility = park_df['park_exercise_facility'].unique()\n",
    "unique_park_cultural_facitiy = park_df['park_cultural_facitiy'].unique()\n",
    "unique_park_benefit_facility = park_df['park_benefit_facility'].unique()\n",
    "unique_park_entertainment_facility = park_df['park_entertainment_facility'].unique()\n",
    "\n",
    "# 두 컬럼의 고유값에서 겹치는 항목 찾기\n",
    "common_elements = set(unique_park_facility_other) & set(unique_park_benefit_facility)\n",
    "common_element1 = set(unique_park_facility_other) & set(unique_park_exercise_facility)\n",
    "common_element2 = set(unique_park_facility_other) & set(unique_park_cultural_facitiy)\n",
    "common_element3 = set(unique_park_facility_other) & set(unique_park_entertainment_facility)\n",
    "\n",
    "# 겹치는 항목 출력\n",
    "print(f'편익시설: {common_elements}')\n",
    "print(f'운동시설: {common_element1}')\n",
    "print(f'문화시설: {common_element2}')\n",
    "print(f'유흥시설: {common_element3}')"
   ]
  },
  {
   "cell_type": "code",
   "execution_count": 84,
   "id": "eab27be0",
   "metadata": {},
   "outputs": [
    {
     "data": {
      "text/html": [
       "<div>\n",
       "<style scoped>\n",
       "    .dataframe tbody tr th:only-of-type {\n",
       "        vertical-align: middle;\n",
       "    }\n",
       "\n",
       "    .dataframe tbody tr th {\n",
       "        vertical-align: top;\n",
       "    }\n",
       "\n",
       "    .dataframe thead th {\n",
       "        text-align: right;\n",
       "    }\n",
       "</style>\n",
       "<table border=\"1\" class=\"dataframe\">\n",
       "  <thead>\n",
       "    <tr style=\"text-align: right;\">\n",
       "      <th></th>\n",
       "      <th>city</th>\n",
       "      <th>gu</th>\n",
       "      <th>dong</th>\n",
       "      <th>park_name</th>\n",
       "      <th>park_type</th>\n",
       "      <th>park_area</th>\n",
       "      <th>park_exercise_facility</th>\n",
       "      <th>park_entertainment_facility</th>\n",
       "      <th>park_benefit_facility</th>\n",
       "      <th>park_cultural_facitiy</th>\n",
       "      <th>park_facility_other</th>\n",
       "    </tr>\n",
       "  </thead>\n",
       "  <tbody>\n",
       "    <tr>\n",
       "      <th>0</th>\n",
       "      <td>부산광역시</td>\n",
       "      <td>남구</td>\n",
       "      <td>대연동</td>\n",
       "      <td>대연공원</td>\n",
       "      <td>근린공원</td>\n",
       "      <td>55227.0</td>\n",
       "      <td>게이트볼장</td>\n",
       "      <td>미조성</td>\n",
       "      <td>화장실</td>\n",
       "      <td>문화회관</td>\n",
       "      <td>미조성</td>\n",
       "    </tr>\n",
       "    <tr>\n",
       "      <th>1</th>\n",
       "      <td>부산광역시</td>\n",
       "      <td>남구</td>\n",
       "      <td>대연동</td>\n",
       "      <td>당곡공원</td>\n",
       "      <td>역사공원</td>\n",
       "      <td>75465.0</td>\n",
       "      <td>게이트볼장</td>\n",
       "      <td>미조성</td>\n",
       "      <td>화장실</td>\n",
       "      <td>무대</td>\n",
       "      <td>미조성</td>\n",
       "    </tr>\n",
       "    <tr>\n",
       "      <th>2</th>\n",
       "      <td>부산광역시</td>\n",
       "      <td>남구</td>\n",
       "      <td>대연동</td>\n",
       "      <td>당곡공원</td>\n",
       "      <td>역사공원</td>\n",
       "      <td>75465.0</td>\n",
       "      <td>게이트볼장</td>\n",
       "      <td>미조성</td>\n",
       "      <td>화장실</td>\n",
       "      <td>무대</td>\n",
       "      <td>체력단련시설</td>\n",
       "    </tr>\n",
       "    <tr>\n",
       "      <th>3</th>\n",
       "      <td>부산광역시</td>\n",
       "      <td>남구</td>\n",
       "      <td>대연동</td>\n",
       "      <td>대일어린이공원</td>\n",
       "      <td>어린이공원</td>\n",
       "      <td>422.1</td>\n",
       "      <td>풋살구장</td>\n",
       "      <td>미조성</td>\n",
       "      <td>화장실</td>\n",
       "      <td>청소년수련원</td>\n",
       "      <td>미조성</td>\n",
       "    </tr>\n",
       "    <tr>\n",
       "      <th>4</th>\n",
       "      <td>부산광역시</td>\n",
       "      <td>남구</td>\n",
       "      <td>대연동</td>\n",
       "      <td>대일어린이공원</td>\n",
       "      <td>어린이공원</td>\n",
       "      <td>422.1</td>\n",
       "      <td>풋살구장</td>\n",
       "      <td>미조성</td>\n",
       "      <td>화장실</td>\n",
       "      <td>청소년수련원</td>\n",
       "      <td>체력단련시설</td>\n",
       "    </tr>\n",
       "    <tr>\n",
       "      <th>...</th>\n",
       "      <td>...</td>\n",
       "      <td>...</td>\n",
       "      <td>...</td>\n",
       "      <td>...</td>\n",
       "      <td>...</td>\n",
       "      <td>...</td>\n",
       "      <td>...</td>\n",
       "      <td>...</td>\n",
       "      <td>...</td>\n",
       "      <td>...</td>\n",
       "      <td>...</td>\n",
       "    </tr>\n",
       "    <tr>\n",
       "      <th>1585</th>\n",
       "      <td>부산광역시</td>\n",
       "      <td>북구</td>\n",
       "      <td>덕천동</td>\n",
       "      <td>덕천소공원</td>\n",
       "      <td>소공원</td>\n",
       "      <td>1281.0</td>\n",
       "      <td>게이트볼장</td>\n",
       "      <td>미조성</td>\n",
       "      <td>케이블카 정류장</td>\n",
       "      <td>미조성</td>\n",
       "      <td>미조성</td>\n",
       "    </tr>\n",
       "    <tr>\n",
       "      <th>1586</th>\n",
       "      <td>부산광역시</td>\n",
       "      <td>북구</td>\n",
       "      <td>구포동</td>\n",
       "      <td>거북소공원</td>\n",
       "      <td>소공원</td>\n",
       "      <td>742.0</td>\n",
       "      <td>농구장</td>\n",
       "      <td>미끄럼틀</td>\n",
       "      <td>화장실</td>\n",
       "      <td>미조성</td>\n",
       "      <td>미조성</td>\n",
       "    </tr>\n",
       "    <tr>\n",
       "      <th>1587</th>\n",
       "      <td>부산광역시</td>\n",
       "      <td>북구</td>\n",
       "      <td>만덕동</td>\n",
       "      <td>파란마음공원</td>\n",
       "      <td>어린이공원</td>\n",
       "      <td>1596.1</td>\n",
       "      <td>배드민턴장</td>\n",
       "      <td>미끄럼틀</td>\n",
       "      <td>미조성</td>\n",
       "      <td>미조성</td>\n",
       "      <td>미조성</td>\n",
       "    </tr>\n",
       "    <tr>\n",
       "      <th>1588</th>\n",
       "      <td>부산광역시</td>\n",
       "      <td>북구</td>\n",
       "      <td>만덕동</td>\n",
       "      <td>신덕공원</td>\n",
       "      <td>어린이공원</td>\n",
       "      <td>2809.0</td>\n",
       "      <td>배드민턴장</td>\n",
       "      <td>그네</td>\n",
       "      <td>화장실</td>\n",
       "      <td>미조성</td>\n",
       "      <td>미조성</td>\n",
       "    </tr>\n",
       "    <tr>\n",
       "      <th>1589</th>\n",
       "      <td>서울특별시</td>\n",
       "      <td>동대문구</td>\n",
       "      <td>청량리동</td>\n",
       "      <td>홍릉</td>\n",
       "      <td>근린공원</td>\n",
       "      <td>102920.0</td>\n",
       "      <td>미조성</td>\n",
       "      <td>시소</td>\n",
       "      <td>미조성</td>\n",
       "      <td>박물관</td>\n",
       "      <td>미조성</td>\n",
       "    </tr>\n",
       "  </tbody>\n",
       "</table>\n",
       "<p>1590 rows × 11 columns</p>\n",
       "</div>"
      ],
      "text/plain": [
       "       city    gu  dong park_name park_type  park_area park_exercise_facility  \\\n",
       "0     부산광역시    남구   대연동      대연공원      근린공원    55227.0                  게이트볼장   \n",
       "1     부산광역시    남구   대연동      당곡공원      역사공원    75465.0                  게이트볼장   \n",
       "2     부산광역시    남구   대연동      당곡공원      역사공원    75465.0                  게이트볼장   \n",
       "3     부산광역시    남구   대연동   대일어린이공원     어린이공원      422.1                   풋살구장   \n",
       "4     부산광역시    남구   대연동   대일어린이공원     어린이공원      422.1                   풋살구장   \n",
       "...     ...   ...   ...       ...       ...        ...                    ...   \n",
       "1585  부산광역시    북구   덕천동     덕천소공원       소공원     1281.0                  게이트볼장   \n",
       "1586  부산광역시    북구   구포동     거북소공원       소공원      742.0                    농구장   \n",
       "1587  부산광역시    북구   만덕동    파란마음공원     어린이공원     1596.1                  배드민턴장   \n",
       "1588  부산광역시    북구   만덕동      신덕공원     어린이공원     2809.0                  배드민턴장   \n",
       "1589  서울특별시  동대문구  청량리동        홍릉      근린공원   102920.0                    미조성   \n",
       "\n",
       "     park_entertainment_facility park_benefit_facility park_cultural_facitiy  \\\n",
       "0                            미조성                   화장실                  문화회관   \n",
       "1                            미조성                   화장실                    무대   \n",
       "2                            미조성                   화장실                    무대   \n",
       "3                            미조성                   화장실                청소년수련원   \n",
       "4                            미조성                   화장실                청소년수련원   \n",
       "...                          ...                   ...                   ...   \n",
       "1585                         미조성              케이블카 정류장                   미조성   \n",
       "1586                        미끄럼틀                   화장실                   미조성   \n",
       "1587                        미끄럼틀                   미조성                   미조성   \n",
       "1588                          그네                   화장실                   미조성   \n",
       "1589                          시소                   미조성                   박물관   \n",
       "\n",
       "     park_facility_other  \n",
       "0                    미조성  \n",
       "1                    미조성  \n",
       "2                 체력단련시설  \n",
       "3                    미조성  \n",
       "4                 체력단련시설  \n",
       "...                  ...  \n",
       "1585                 미조성  \n",
       "1586                 미조성  \n",
       "1587                 미조성  \n",
       "1588                 미조성  \n",
       "1589                 미조성  \n",
       "\n",
       "[1590 rows x 11 columns]"
      ]
     },
     "execution_count": 84,
     "metadata": {},
     "output_type": "execute_result"
    }
   ],
   "source": [
    "benefit = park_df['park_facility_other'].isin(['화장실','파고라','음수대', '관리사무소', '정자', '벤치'])\n",
    "exercise = park_df['park_facility_other'].isin(['축구장', '농구장', '게이트볼장', '배드민턴장', '족구장'])\n",
    "culture = park_df['park_facility_other'].isin(['박물관'])\n",
    "\n",
    "benefit_rows = park_df[benefit].copy()\n",
    "benefit_rows['park_benefit_facility'] = benefit_rows['park_facility_other']\n",
    "benefit_rows['park_facility_other'] = '미조성'\n",
    "\n",
    "exercise_rows = park_df[exercise].copy()\n",
    "exercise_rows['park_exercise_facility'] = exercise_rows['park_facility_other']\n",
    "exercise_rows['park_facility_other'] = '미조성'\n",
    "\n",
    "culture_rows = park_df[culture].copy()\n",
    "culture_rows['park_cultural_facitiy'] = culture_rows['park_facility_other']\n",
    "culture_rows['park_facility_other'] = '미조성'\n",
    "\n",
    "new_rows = pd.concat([benefit_rows, exercise_rows, culture_rows], ignore_index=True)\n",
    "\n",
    "park_df.loc[benefit | exercise | culture, 'park_facility_other'] = '미조성'\n",
    "\n",
    "park_df = pd.concat([park_df, new_rows], ignore_index=True)\n",
    "park_df"
   ]
  },
  {
   "cell_type": "code",
   "execution_count": 86,
   "id": "ed69f319",
   "metadata": {},
   "outputs": [
    {
     "data": {
      "text/plain": [
       "array(['미조성', '체력단련시설', '세미나실', '공연장', '경로당', 'CCTV', '광장', '바닥분수', '계류',\n",
       "       '벽천', '황톳길', '무장애길', '야생화단지', '유아숲체험장', '환경자원센터', '연못', '분수',\n",
       "       '유아숲체험원', '캠핑장', '도로', '야영장', '휴게소', '야유회장', '전망쉼터', '물놀이터',\n",
       "       '산림욕장', '소각장', '표지판', '쓰레기통', '창고', '데크', '트리하우스', '스카이워크', '안내소',\n",
       "       '통합건물', '케스케이드', '미로공원', '녹차체험장', '암석원', '힐링캠프', '앉음벽', '트렐리스',\n",
       "       '안내판', '플랜트', '수도', '솟대', '평상', '도막포장', '수증등', '양잔디', '공원등', '열주',\n",
       "       '놀이벽', '볼라드', '계단', '돌탁자', '다목적운동장', '안내석', '야외석물탁자', '돌담',\n",
       "       '상징게이트', '그늘시렁', '문주', '준공기념비', '자전거보관대', '전시벽', '가벽', '스탠드',\n",
       "       '지압로', '야외테이블', '수경시설', '오두막', '등산로', '각종시설', '문화재시설', '인공폭포',\n",
       "       '음악분수'], dtype=object)"
      ]
     },
     "execution_count": 86,
     "metadata": {},
     "output_type": "execute_result"
    }
   ],
   "source": [
    "park_df['park_facility_other'].unique()"
   ]
  },
  {
   "cell_type": "code",
   "execution_count": 89,
   "id": "8a1ec449",
   "metadata": {},
   "outputs": [],
   "source": [
    "park_df.to_csv('after_park_df.csv', index = False)"
   ]
  },
  {
   "cell_type": "code",
   "execution_count": 90,
   "id": "f590b42a",
   "metadata": {},
   "outputs": [],
   "source": [
    "day_care_df.to_csv('after_day_care_df.csv', index = False)"
   ]
  }
 ],
 "metadata": {
  "kernelspec": {
   "display_name": "Python 3 (ipykernel)",
   "language": "python",
   "name": "python3"
  },
  "language_info": {
   "codemirror_mode": {
    "name": "ipython",
    "version": 3
   },
   "file_extension": ".py",
   "mimetype": "text/x-python",
   "name": "python",
   "nbconvert_exporter": "python",
   "pygments_lexer": "ipython3",
   "version": "3.11.5"
  }
 },
 "nbformat": 4,
 "nbformat_minor": 5
}
